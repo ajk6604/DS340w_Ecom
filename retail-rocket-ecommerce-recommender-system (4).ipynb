{
 "cells": [
  {
   "cell_type": "markdown",
   "metadata": {
    "_uuid": "055982587a46ea46f93256a5caadf230061706a8"
   },
   "source": [
    "# Objective:\n",
    "    1. Show how the dataset is structured\n",
    "    2. Explore a bit about customer behaviour based on the data and do basic customer segmentation\n",
    "    3. Recommendations for future analysis"
   ]
  },
  {
   "cell_type": "markdown",
   "metadata": {
    "_uuid": "7f5fed00771c9bad34b0258520726ccd5807018d"
   },
   "source": [
    "This dataset was taken from the Retail Rocket Recommender System dataset: https://www.kaggle.com/retailrocket/ecommerce-dataset/home\n",
    "\n",
    "And data was between June 2, 2015 and August 1, 2015"
   ]
  },
  {
   "cell_type": "code",
   "execution_count": 82,
   "metadata": {
    "_uuid": "38e3dd4a9e2e6f0cfedb5cd8bdc720d7d2b3d776"
   },
   "outputs": [],
   "source": [
    "import pandas as pd\n",
    "import numpy as np\n",
    "\n",
    "import datetime \n",
    "import time\n",
    "\n",
    "%matplotlib inline\n",
    "import matplotlib.pyplot as plt \n",
    "import seaborn as sns\n",
    "\n",
    "from sklearn.model_selection import train_test_split\n",
    "from sklearn.linear_model import LogisticRegression\n",
    "from sklearn import metrics"
   ]
  },
  {
   "cell_type": "markdown",
   "metadata": {
    "_uuid": "13fb407d06060546624b5153472ebea6fbc3ef78"
   },
   "source": [
    "Let us load the Retail Rocket CSV files into DataFrames"
   ]
  },
  {
   "cell_type": "code",
   "execution_count": 275,
   "metadata": {
    "_uuid": "ab591308056a8d7b2b2efa753575bc3d35491106"
   },
   "outputs": [],
   "source": [
    "events_df = pd.read_csv(\"/storage/work/ajk6604/DS340w/events.csv\")\n",
    "category_tree_df = pd.read_csv(\"/storage/work/ajk6604/DS340w/category_tree.csv\")\n",
    "item_properties_1_df = pd.read_csv(\"/storage/work/ajk6604/DS340w/item_properties_part1.csv\")\n",
    "item_properties_2_df = pd.read_csv(\"/storage/work/ajk6604/DS340w/item_properties_part2.csv\")"
   ]
  },
  {
   "cell_type": "markdown",
   "metadata": {
    "_uuid": "fea0c551588b778df96f4942e11190c8e4eddc78"
   },
   "source": [
    "# Let's take a peek at the Events dataframe"
   ]
  },
  {
   "cell_type": "code",
   "execution_count": 276,
   "metadata": {
    "_uuid": "8794df9fbb883e088cbf01939530f6d9537a359d"
   },
   "outputs": [
    {
     "data": {
      "text/html": [
       "<div>\n",
       "<style scoped>\n",
       "    .dataframe tbody tr th:only-of-type {\n",
       "        vertical-align: middle;\n",
       "    }\n",
       "\n",
       "    .dataframe tbody tr th {\n",
       "        vertical-align: top;\n",
       "    }\n",
       "\n",
       "    .dataframe thead th {\n",
       "        text-align: right;\n",
       "    }\n",
       "</style>\n",
       "<table border=\"1\" class=\"dataframe\">\n",
       "  <thead>\n",
       "    <tr style=\"text-align: right;\">\n",
       "      <th></th>\n",
       "      <th>timestamp</th>\n",
       "      <th>visitorid</th>\n",
       "      <th>event</th>\n",
       "      <th>itemid</th>\n",
       "      <th>transactionid</th>\n",
       "    </tr>\n",
       "  </thead>\n",
       "  <tbody>\n",
       "    <tr>\n",
       "      <th>0</th>\n",
       "      <td>1433221332117</td>\n",
       "      <td>257597</td>\n",
       "      <td>view</td>\n",
       "      <td>355908</td>\n",
       "      <td>NaN</td>\n",
       "    </tr>\n",
       "    <tr>\n",
       "      <th>1</th>\n",
       "      <td>1433224214164</td>\n",
       "      <td>992329</td>\n",
       "      <td>view</td>\n",
       "      <td>248676</td>\n",
       "      <td>NaN</td>\n",
       "    </tr>\n",
       "    <tr>\n",
       "      <th>2</th>\n",
       "      <td>1433221999827</td>\n",
       "      <td>111016</td>\n",
       "      <td>view</td>\n",
       "      <td>318965</td>\n",
       "      <td>NaN</td>\n",
       "    </tr>\n",
       "    <tr>\n",
       "      <th>3</th>\n",
       "      <td>1433221955914</td>\n",
       "      <td>483717</td>\n",
       "      <td>view</td>\n",
       "      <td>253185</td>\n",
       "      <td>NaN</td>\n",
       "    </tr>\n",
       "    <tr>\n",
       "      <th>4</th>\n",
       "      <td>1433221337106</td>\n",
       "      <td>951259</td>\n",
       "      <td>view</td>\n",
       "      <td>367447</td>\n",
       "      <td>NaN</td>\n",
       "    </tr>\n",
       "  </tbody>\n",
       "</table>\n",
       "</div>"
      ],
      "text/plain": [
       "       timestamp  visitorid event  itemid  transactionid\n",
       "0  1433221332117     257597  view  355908            NaN\n",
       "1  1433224214164     992329  view  248676            NaN\n",
       "2  1433221999827     111016  view  318965            NaN\n",
       "3  1433221955914     483717  view  253185            NaN\n",
       "4  1433221337106     951259  view  367447            NaN"
      ]
     },
     "execution_count": 276,
     "metadata": {},
     "output_type": "execute_result"
    }
   ],
   "source": [
    "events_df.head()"
   ]
  },
  {
   "cell_type": "code",
   "execution_count": 277,
   "metadata": {},
   "outputs": [
    {
     "data": {
      "text/plain": [
       "2756101"
      ]
     },
     "execution_count": 277,
     "metadata": {},
     "output_type": "execute_result"
    }
   ],
   "source": [
    "len(events_df)"
   ]
  },
  {
   "cell_type": "markdown",
   "metadata": {
    "_uuid": "c7510ba9c4335f17e58984485f9eac9a0f49a623"
   },
   "source": [
    "The timestamp portion is in Unix Epoch format e.g. 1433221332117 will be converted to Tuesday, 2 June 2015 5:02:12.117 AM GMT\n",
    "\n",
    "Visitor Id is the unique user currently browsing the website\n",
    "\n",
    "Event is what the user is currently doing in that current timestamp\n",
    "\n",
    "Transaction ID will only have value if the user made a purchase as shown below"
   ]
  },
  {
   "cell_type": "code",
   "execution_count": 85,
   "metadata": {
    "_uuid": "36b6433546e9b6d9d10bc9e6a02bbac6844796c8"
   },
   "outputs": [
    {
     "data": {
      "text/plain": [
       "array(['transaction'], dtype=object)"
      ]
     },
     "execution_count": 85,
     "metadata": {},
     "output_type": "execute_result"
    }
   ],
   "source": [
    "#Which event has a value in its transaction id\n",
    "events_df[events_df.transactionid.notnull()].event.unique()"
   ]
  },
  {
   "cell_type": "markdown",
   "metadata": {
    "_uuid": "07f6bca34d671f1aa0527d7a2a463baf230b7ab0"
   },
   "source": [
    "The rest of the events with NaN transaction ids are either view or add to cart"
   ]
  },
  {
   "cell_type": "code",
   "execution_count": 86,
   "metadata": {
    "_uuid": "981d474465c946f4edd0edec66f2cabaf3a5ff76"
   },
   "outputs": [
    {
     "data": {
      "text/plain": [
       "array(['view', 'addtocart'], dtype=object)"
      ]
     },
     "execution_count": 86,
     "metadata": {},
     "output_type": "execute_result"
    }
   ],
   "source": [
    "#Which event/s has a null value\n",
    "events_df[events_df.transactionid.isnull()].event.unique()"
   ]
  },
  {
   "cell_type": "markdown",
   "metadata": {
    "_uuid": "018fbc865d40b25eb298895b8bce33a872004513"
   },
   "source": [
    "# Now let's take a look at the Item Properties"
   ]
  },
  {
   "cell_type": "code",
   "execution_count": 87,
   "metadata": {
    "_uuid": "51f268314f2034a8ca952c9f7481e29f593e47a4"
   },
   "outputs": [
    {
     "data": {
      "text/html": [
       "<div>\n",
       "<style scoped>\n",
       "    .dataframe tbody tr th:only-of-type {\n",
       "        vertical-align: middle;\n",
       "    }\n",
       "\n",
       "    .dataframe tbody tr th {\n",
       "        vertical-align: top;\n",
       "    }\n",
       "\n",
       "    .dataframe thead th {\n",
       "        text-align: right;\n",
       "    }\n",
       "</style>\n",
       "<table border=\"1\" class=\"dataframe\">\n",
       "  <thead>\n",
       "    <tr style=\"text-align: right;\">\n",
       "      <th></th>\n",
       "      <th>timestamp</th>\n",
       "      <th>itemid</th>\n",
       "      <th>property</th>\n",
       "      <th>value</th>\n",
       "    </tr>\n",
       "  </thead>\n",
       "  <tbody>\n",
       "    <tr>\n",
       "      <th>0</th>\n",
       "      <td>1435460400000</td>\n",
       "      <td>460429</td>\n",
       "      <td>categoryid</td>\n",
       "      <td>1338</td>\n",
       "    </tr>\n",
       "    <tr>\n",
       "      <th>1</th>\n",
       "      <td>1441508400000</td>\n",
       "      <td>206783</td>\n",
       "      <td>888</td>\n",
       "      <td>1116713 960601 n277.200</td>\n",
       "    </tr>\n",
       "    <tr>\n",
       "      <th>2</th>\n",
       "      <td>1439089200000</td>\n",
       "      <td>395014</td>\n",
       "      <td>400</td>\n",
       "      <td>n552.000 639502 n720.000 424566</td>\n",
       "    </tr>\n",
       "    <tr>\n",
       "      <th>3</th>\n",
       "      <td>1431226800000</td>\n",
       "      <td>59481</td>\n",
       "      <td>790</td>\n",
       "      <td>n15360.000</td>\n",
       "    </tr>\n",
       "    <tr>\n",
       "      <th>4</th>\n",
       "      <td>1431831600000</td>\n",
       "      <td>156781</td>\n",
       "      <td>917</td>\n",
       "      <td>828513</td>\n",
       "    </tr>\n",
       "  </tbody>\n",
       "</table>\n",
       "</div>"
      ],
      "text/plain": [
       "       timestamp  itemid    property                            value\n",
       "0  1435460400000  460429  categoryid                             1338\n",
       "1  1441508400000  206783         888          1116713 960601 n277.200\n",
       "2  1439089200000  395014         400  n552.000 639502 n720.000 424566\n",
       "3  1431226800000   59481         790                       n15360.000\n",
       "4  1431831600000  156781         917                           828513"
      ]
     },
     "execution_count": 87,
     "metadata": {},
     "output_type": "execute_result"
    }
   ],
   "source": [
    "item_properties_1_df.head()"
   ]
  },
  {
   "cell_type": "markdown",
   "metadata": {
    "_uuid": "5346293d61718861df3f13c69653cb52af89af3c"
   },
   "source": [
    "Timestamp is still the same Unix / Epoch format\n",
    "\n",
    "Item id will be the unique item identifier\n",
    "\n",
    "Property is the Item's attributes such as category id and availability while the rest are hashed for confidentiality purposes\n",
    "\n",
    "Value is the item's property value e.g. availability is 1 if there is stock and 0 otherwise\n",
    "\n",
    "Note: Values that start with \"n\" indicate that the value preceeding it is a number e.g. n277.200 is equal to 277.2"
   ]
  },
  {
   "cell_type": "markdown",
   "metadata": {
    "_uuid": "e94f8c8d6c25e6a090a3e9d4d8bb49253b9fdf09"
   },
   "source": [
    "# Category IDs"
   ]
  },
  {
   "cell_type": "code",
   "execution_count": 88,
   "metadata": {
    "_uuid": "cf2fe53cca8a7e5691296455628dd27e46f27ade"
   },
   "outputs": [
    {
     "data": {
      "text/html": [
       "<div>\n",
       "<style scoped>\n",
       "    .dataframe tbody tr th:only-of-type {\n",
       "        vertical-align: middle;\n",
       "    }\n",
       "\n",
       "    .dataframe tbody tr th {\n",
       "        vertical-align: top;\n",
       "    }\n",
       "\n",
       "    .dataframe thead th {\n",
       "        text-align: right;\n",
       "    }\n",
       "</style>\n",
       "<table border=\"1\" class=\"dataframe\">\n",
       "  <thead>\n",
       "    <tr style=\"text-align: right;\">\n",
       "      <th></th>\n",
       "      <th>categoryid</th>\n",
       "      <th>parentid</th>\n",
       "    </tr>\n",
       "  </thead>\n",
       "  <tbody>\n",
       "    <tr>\n",
       "      <th>0</th>\n",
       "      <td>1016</td>\n",
       "      <td>213.0</td>\n",
       "    </tr>\n",
       "    <tr>\n",
       "      <th>1</th>\n",
       "      <td>809</td>\n",
       "      <td>169.0</td>\n",
       "    </tr>\n",
       "    <tr>\n",
       "      <th>2</th>\n",
       "      <td>570</td>\n",
       "      <td>9.0</td>\n",
       "    </tr>\n",
       "    <tr>\n",
       "      <th>3</th>\n",
       "      <td>1691</td>\n",
       "      <td>885.0</td>\n",
       "    </tr>\n",
       "    <tr>\n",
       "      <th>4</th>\n",
       "      <td>536</td>\n",
       "      <td>1691.0</td>\n",
       "    </tr>\n",
       "  </tbody>\n",
       "</table>\n",
       "</div>"
      ],
      "text/plain": [
       "   categoryid  parentid\n",
       "0        1016     213.0\n",
       "1         809     169.0\n",
       "2         570       9.0\n",
       "3        1691     885.0\n",
       "4         536    1691.0"
      ]
     },
     "execution_count": 88,
     "metadata": {},
     "output_type": "execute_result"
    }
   ],
   "source": [
    "category_tree_df.head()"
   ]
  },
  {
   "cell_type": "markdown",
   "metadata": {
    "_uuid": "618020d4c0fb5deffb5fd02a073b66d6e9cf5110"
   },
   "source": [
    "Category IDs explain the relationship of different products with each other e.g. Category ID 1016 is a child of Parent ID 213.\n",
    "\n",
    "Below shows the number of items under category id 1016"
   ]
  },
  {
   "cell_type": "code",
   "execution_count": 89,
   "metadata": {
    "_uuid": "dc247cae4408b9454cf7e6e70b01fdd1ec88cf02"
   },
   "outputs": [
    {
     "data": {
      "text/html": [
       "<div>\n",
       "<style scoped>\n",
       "    .dataframe tbody tr th:only-of-type {\n",
       "        vertical-align: middle;\n",
       "    }\n",
       "\n",
       "    .dataframe tbody tr th {\n",
       "        vertical-align: top;\n",
       "    }\n",
       "\n",
       "    .dataframe thead th {\n",
       "        text-align: right;\n",
       "    }\n",
       "</style>\n",
       "<table border=\"1\" class=\"dataframe\">\n",
       "  <thead>\n",
       "    <tr style=\"text-align: right;\">\n",
       "      <th></th>\n",
       "      <th>timestamp</th>\n",
       "      <th>itemid</th>\n",
       "      <th>property</th>\n",
       "      <th>value</th>\n",
       "    </tr>\n",
       "  </thead>\n",
       "  <tbody>\n",
       "    <tr>\n",
       "      <th>6363096</th>\n",
       "      <td>1431226800000</td>\n",
       "      <td>339403</td>\n",
       "      <td>categoryid</td>\n",
       "      <td>1016</td>\n",
       "    </tr>\n",
       "    <tr>\n",
       "      <th>8597591</th>\n",
       "      <td>1431226800000</td>\n",
       "      <td>161686</td>\n",
       "      <td>categoryid</td>\n",
       "      <td>1016</td>\n",
       "    </tr>\n",
       "    <tr>\n",
       "      <th>7942027</th>\n",
       "      <td>1431226800000</td>\n",
       "      <td>418837</td>\n",
       "      <td>categoryid</td>\n",
       "      <td>1016</td>\n",
       "    </tr>\n",
       "    <tr>\n",
       "      <th>10230975</th>\n",
       "      <td>1431226800000</td>\n",
       "      <td>85538</td>\n",
       "      <td>categoryid</td>\n",
       "      <td>1016</td>\n",
       "    </tr>\n",
       "    <tr>\n",
       "      <th>7280176</th>\n",
       "      <td>1431226800000</td>\n",
       "      <td>278463</td>\n",
       "      <td>categoryid</td>\n",
       "      <td>1016</td>\n",
       "    </tr>\n",
       "  </tbody>\n",
       "</table>\n",
       "</div>"
      ],
      "text/plain": [
       "              timestamp  itemid    property value\n",
       "6363096   1431226800000  339403  categoryid  1016\n",
       "8597591   1431226800000  161686  categoryid  1016\n",
       "7942027   1431226800000  418837  categoryid  1016\n",
       "10230975  1431226800000   85538  categoryid  1016\n",
       "7280176   1431226800000  278463  categoryid  1016"
      ]
     },
     "execution_count": 89,
     "metadata": {},
     "output_type": "execute_result"
    }
   ],
   "source": [
    "item_properties_1_df.loc[(item_properties_1_df.property == 'categoryid') & (item_properties_1_df.value == '1016')].sort_values('timestamp').head()"
   ]
  },
  {
   "cell_type": "markdown",
   "metadata": {
    "_uuid": "964ce42f268d35c1df82e6fef94275dbb155d516"
   },
   "source": [
    "# Customer behaviour exploration"
   ]
  },
  {
   "cell_type": "markdown",
   "metadata": {
    "_uuid": "21a7efb9cc3a7ec9556e4cad977027ad12447c05"
   },
   "source": [
    "I think it's prudent to start separating customers into two categories, those who purchased something and those who didn't"
   ]
  },
  {
   "cell_type": "code",
   "execution_count": 9,
   "metadata": {
    "_uuid": "21793ec8647aced697a135ceb338183648a105f5"
   },
   "outputs": [
    {
     "data": {
      "text/plain": [
       "11719"
      ]
     },
     "execution_count": 9,
     "metadata": {},
     "output_type": "execute_result"
    }
   ],
   "source": [
    "#Let's get all the customers who bought something\n",
    "customer_purchased = events_df[events_df.transactionid.notnull()].visitorid.unique()\n",
    "customer_purchased.size"
   ]
  },
  {
   "cell_type": "markdown",
   "metadata": {
    "_uuid": "3af2e4980ecc30562ef4e366751e4686ca727fbe"
   },
   "source": [
    "Assumptions:\n",
    "    1. Since we have no information whether there were any repeat users who bought something from the site, I'll just have to assume for now that the 11,719 visitors are unique and made at least a single purchase"
   ]
  },
  {
   "cell_type": "code",
   "execution_count": 10,
   "metadata": {
    "_uuid": "4207f33766e1418cb44331fa3bea221f271eba09"
   },
   "outputs": [
    {
     "data": {
      "text/plain": [
       "1407580"
      ]
     },
     "execution_count": 10,
     "metadata": {},
     "output_type": "execute_result"
    }
   ],
   "source": [
    "#Let's get all unique visitor ids as well\n",
    "all_customers = events_df.visitorid.unique()\n",
    "all_customers.size"
   ]
  },
  {
   "cell_type": "markdown",
   "metadata": {
    "_uuid": "5ba2768cb128af4fd9ce7992a624b13252ec8e29"
   },
   "source": [
    "Out of 1,407,580 unique visitor ids, let's take out the ones that bought something"
   ]
  },
  {
   "cell_type": "code",
   "execution_count": 11,
   "metadata": {
    "_uuid": "cbbc9ab4ba3d721b50d99abfe155b0e841924e71"
   },
   "outputs": [],
   "source": [
    "customer_browsed = [x for x in all_customers if x not in customer_purchased]"
   ]
  },
  {
   "cell_type": "code",
   "execution_count": 12,
   "metadata": {
    "_uuid": "16e23d8b72bb6c98eeffac4fb844e2cfb4d465bc"
   },
   "outputs": [
    {
     "data": {
      "text/plain": [
       "1395861"
      ]
     },
     "execution_count": 12,
     "metadata": {},
     "output_type": "execute_result"
    }
   ],
   "source": [
    "len(customer_browsed)"
   ]
  },
  {
   "cell_type": "markdown",
   "metadata": {
    "_uuid": "f7f839ce25d87c2b84abdbf9285994cd11eecc0d"
   },
   "source": [
    "So there were actually 1,395,861 unique site visitors who didn't buy anything, again assuming that there were no repeat users with different visitor IDs"
   ]
  },
  {
   "cell_type": "code",
   "execution_count": 13,
   "metadata": {
    "_uuid": "768e40b6ac35ca07de2351f64229bac182773797"
   },
   "outputs": [
    {
     "data": {
      "text/plain": [
       "1395861"
      ]
     },
     "execution_count": 13,
     "metadata": {},
     "output_type": "execute_result"
    }
   ],
   "source": [
    "#Another way to do it using Numpy\n",
    "temp_array = np.isin(customer_browsed, customer_purchased)\n",
    "temp_array[temp_array == False].size"
   ]
  },
  {
   "cell_type": "code",
   "execution_count": 14,
   "metadata": {
    "_uuid": "89b2fc710737ff435ec6f208dbfb936108724678"
   },
   "outputs": [
    {
     "data": {
      "text/plain": [
       "array([ 599528,  121688,  552148,  102019,  189384,  350566,  404403,\n",
       "        505565,  945184, 1406787])"
      ]
     },
     "execution_count": 14,
     "metadata": {},
     "output_type": "execute_result"
    }
   ],
   "source": [
    "#A sample list of the customers who bought something\n",
    "customer_purchased[:10]"
   ]
  },
  {
   "cell_type": "markdown",
   "metadata": {
    "_uuid": "8304011769d573da35356581431f3e204253b7c6"
   },
   "source": [
    "# Below is a snapshot of visitor id 102019 and their buying journey from viewing to transaction (purchase)"
   ]
  },
  {
   "cell_type": "code",
   "execution_count": 15,
   "metadata": {
    "_uuid": "d5a5271d67327bb2acdd68ffe74ca5d623572538"
   },
   "outputs": [
    {
     "data": {
      "text/html": [
       "<div>\n",
       "<style scoped>\n",
       "    .dataframe tbody tr th:only-of-type {\n",
       "        vertical-align: middle;\n",
       "    }\n",
       "\n",
       "    .dataframe tbody tr th {\n",
       "        vertical-align: top;\n",
       "    }\n",
       "\n",
       "    .dataframe thead th {\n",
       "        text-align: right;\n",
       "    }\n",
       "</style>\n",
       "<table border=\"1\" class=\"dataframe\">\n",
       "  <thead>\n",
       "    <tr style=\"text-align: right;\">\n",
       "      <th></th>\n",
       "      <th>timestamp</th>\n",
       "      <th>visitorid</th>\n",
       "      <th>event</th>\n",
       "      <th>itemid</th>\n",
       "      <th>transactionid</th>\n",
       "    </tr>\n",
       "  </thead>\n",
       "  <tbody>\n",
       "    <tr>\n",
       "      <th>19690</th>\n",
       "      <td>1433175714335</td>\n",
       "      <td>102019</td>\n",
       "      <td>view</td>\n",
       "      <td>49521</td>\n",
       "      <td>NaN</td>\n",
       "    </tr>\n",
       "    <tr>\n",
       "      <th>19501</th>\n",
       "      <td>1433175801314</td>\n",
       "      <td>102019</td>\n",
       "      <td>addtocart</td>\n",
       "      <td>49521</td>\n",
       "      <td>NaN</td>\n",
       "    </tr>\n",
       "    <tr>\n",
       "      <th>14842</th>\n",
       "      <td>1433175812596</td>\n",
       "      <td>102019</td>\n",
       "      <td>view</td>\n",
       "      <td>150318</td>\n",
       "      <td>NaN</td>\n",
       "    </tr>\n",
       "    <tr>\n",
       "      <th>19573</th>\n",
       "      <td>1433175871497</td>\n",
       "      <td>102019</td>\n",
       "      <td>view</td>\n",
       "      <td>49521</td>\n",
       "      <td>NaN</td>\n",
       "    </tr>\n",
       "    <tr>\n",
       "      <th>8701</th>\n",
       "      <td>1433175894837</td>\n",
       "      <td>102019</td>\n",
       "      <td>view</td>\n",
       "      <td>49521</td>\n",
       "      <td>NaN</td>\n",
       "    </tr>\n",
       "    <tr>\n",
       "      <th>19708</th>\n",
       "      <td>1433175945872</td>\n",
       "      <td>102019</td>\n",
       "      <td>view</td>\n",
       "      <td>150318</td>\n",
       "      <td>NaN</td>\n",
       "    </tr>\n",
       "    <tr>\n",
       "      <th>8740</th>\n",
       "      <td>1433176042269</td>\n",
       "      <td>102019</td>\n",
       "      <td>view</td>\n",
       "      <td>49521</td>\n",
       "      <td>NaN</td>\n",
       "    </tr>\n",
       "    <tr>\n",
       "      <th>814</th>\n",
       "      <td>1433176736375</td>\n",
       "      <td>102019</td>\n",
       "      <td>transaction</td>\n",
       "      <td>150318</td>\n",
       "      <td>13556.0</td>\n",
       "    </tr>\n",
       "    <tr>\n",
       "      <th>19724</th>\n",
       "      <td>1433176736422</td>\n",
       "      <td>102019</td>\n",
       "      <td>transaction</td>\n",
       "      <td>49521</td>\n",
       "      <td>13556.0</td>\n",
       "    </tr>\n",
       "  </tbody>\n",
       "</table>\n",
       "</div>"
      ],
      "text/plain": [
       "           timestamp  visitorid        event  itemid  transactionid\n",
       "19690  1433175714335     102019         view   49521            NaN\n",
       "19501  1433175801314     102019    addtocart   49521            NaN\n",
       "14842  1433175812596     102019         view  150318            NaN\n",
       "19573  1433175871497     102019         view   49521            NaN\n",
       "8701   1433175894837     102019         view   49521            NaN\n",
       "19708  1433175945872     102019         view  150318            NaN\n",
       "8740   1433176042269     102019         view   49521            NaN\n",
       "814    1433176736375     102019  transaction  150318        13556.0\n",
       "19724  1433176736422     102019  transaction   49521        13556.0"
      ]
     },
     "execution_count": 15,
     "metadata": {},
     "output_type": "execute_result"
    }
   ],
   "source": [
    "events_df[events_df.visitorid == 102019].sort_values('timestamp')"
   ]
  },
  {
   "cell_type": "markdown",
   "metadata": {
    "_uuid": "653d1195c7007321fb4ff9a7c0044b349a38d233"
   },
   "source": [
    "If we want to convert the UNIX / Epoch time format to readable format then just do the code below"
   ]
  },
  {
   "cell_type": "code",
   "execution_count": 16,
   "metadata": {
    "_uuid": "33caeb2b61fc9dbed116c8ddf67d3c0a9a2905e1"
   },
   "outputs": [
    {
     "data": {
      "text/plain": [
       "'2015-06-02 01:02:12'"
      ]
     },
     "execution_count": 16,
     "metadata": {},
     "output_type": "execute_result"
    }
   ],
   "source": [
    "tz = int('1433221332')\n",
    "new_time = datetime.datetime.fromtimestamp(tz)\n",
    "new_time.strftime('%Y-%m-%d %H:%M:%S')"
   ]
  },
  {
   "cell_type": "code",
   "execution_count": 17,
   "metadata": {
    "_uuid": "abd4495b2f8bdd63b29c2333cc6604c9bcf544e8"
   },
   "outputs": [
    {
     "data": {
      "text/plain": [
       "'2015-07-31 23:36:03'"
      ]
     },
     "execution_count": 17,
     "metadata": {},
     "output_type": "execute_result"
    }
   ],
   "source": [
    "tz = int('1438400163')\n",
    "new_time = datetime.datetime.fromtimestamp(tz)\n",
    "new_time.strftime('%Y-%m-%d %H:%M:%S')"
   ]
  },
  {
   "cell_type": "markdown",
   "metadata": {
    "_uuid": "d0c8670089763310ce470ef154f1ec34145bbcee"
   },
   "source": [
    "# What insights can we offer the visitor to guide them in their buying journey?\n",
    "\n",
    "-perhaps we can offer them a list of what previous visitors bought together with the item they are currently viewing"
   ]
  },
  {
   "cell_type": "code",
   "execution_count": 18,
   "metadata": {
    "_uuid": "c72c8e8126c155ba65072a82c577312c5faadf8d"
   },
   "outputs": [],
   "source": [
    "# Firstly let's create an array that lists visitors who made a purchase\n",
    "customer_purchased = events_df[events_df.transactionid.notnull()].visitorid.unique()\n",
    "    \n",
    "purchased_items = []\n",
    "    \n",
    "# Create another list that contains all their purchases \n",
    "for customer in customer_purchased:\n",
    "\n",
    "    #Generate a Pandas series type object containing all the visitor's purchases and put them in the list\n",
    "    purchased_items.append(list(events_df.loc[(events_df.visitorid == customer) & (events_df.transactionid.notnull())].itemid.values))                                  "
   ]
  },
  {
   "cell_type": "markdown",
   "metadata": {
    "_uuid": "ac9983b2199612a6e17ed3e5643af71594433b6f"
   },
   "source": [
    "So now all items purchased together are presented as a list of lists, shown below are the first 5 samples"
   ]
  },
  {
   "cell_type": "code",
   "execution_count": 19,
   "metadata": {
    "_uuid": "2fe00d80f44a6d25e0b47e4d8485ee1d8a4fe6dc"
   },
   "outputs": [
    {
     "data": {
      "text/plain": [
       "[[356475],\n",
       " [15335,\n",
       "  380775,\n",
       "  237753,\n",
       "  317178,\n",
       "  12836,\n",
       "  400969,\n",
       "  105792,\n",
       "  25353,\n",
       "  200793,\n",
       "  80582,\n",
       "  302422],\n",
       " [81345],\n",
       " [150318, 49521],\n",
       " [310791, 299044]]"
      ]
     },
     "execution_count": 19,
     "metadata": {},
     "output_type": "execute_result"
    }
   ],
   "source": [
    "purchased_items[:5]"
   ]
  },
  {
   "cell_type": "code",
   "execution_count": 20,
   "metadata": {
    "_uuid": "ad173031c7cd82cf2c31922e053380ed88881dc6"
   },
   "outputs": [],
   "source": [
    "# Write a function that would show items that were bought together (same of different dates) by the same customer\n",
    "def recommender_bought_bought(item_id, purchased_items):\n",
    "    \n",
    "    # Perhaps implement a binary search for that item id in the list of arrays\n",
    "    # Then put the arrays containing that item id in a new list\n",
    "    # Then merge all items in that list and get rid of duplicates\n",
    "    recommender_list = []\n",
    "    for x in purchased_items:\n",
    "        if item_id in x:\n",
    "            recommender_list += x\n",
    "    \n",
    "    #Then merge recommender list and remove the item id\n",
    "    recommender_list = list(set(recommender_list) - set([item_id]))\n",
    "    \n",
    "    return recommender_list"
   ]
  },
  {
   "cell_type": "markdown",
   "metadata": {
    "_uuid": "8e4f743909afccb96cf93636e277dc1ff8fd636b"
   },
   "source": [
    "# So now we can present to the visitor a list of the other items a customer previously bought along with what item the current visitor is viewing e.g. item number 302422"
   ]
  },
  {
   "cell_type": "code",
   "execution_count": 21,
   "metadata": {
    "_uuid": "126e573f99f365c8272ffcd34edce5e1af75b802"
   },
   "outputs": [
    {
     "data": {
      "text/plain": [
       "[105792, 200793, 12836, 80582, 380775, 15335, 400969, 25353, 237753, 317178]"
      ]
     },
     "execution_count": 21,
     "metadata": {},
     "output_type": "execute_result"
    }
   ],
   "source": [
    "recommender_bought_bought(302422, purchased_items)"
   ]
  },
  {
   "cell_type": "markdown",
   "metadata": {
    "_uuid": "a822a1ed3939e3b283e845c46775284d457950c8"
   },
   "source": [
    "That was a very crude way of recommending other items to the visitor"
   ]
  },
  {
   "cell_type": "markdown",
   "metadata": {
    "_uuid": "1b94d6216558f4dc53600de762c20498da058f7d"
   },
   "source": [
    "# What other insights can we gather from the items that were viewed, added to cart and sold?"
   ]
  },
  {
   "cell_type": "markdown",
   "metadata": {
    "_uuid": "136db37261056f929fb409895cac1aee2e82b6e7"
   },
   "source": [
    "# Can we perhaps cluster the visitors and see if classes appear?\n",
    "\n",
    "For that I will need to create a new dataframe and engineer a few features for it"
   ]
  },
  {
   "cell_type": "markdown",
   "metadata": {
    "_uuid": "5859eeb2e879f219f656e4a6ae5a694a57055601"
   },
   "source": [
    "How many unique visitors did we have for the site from June 2, 2015 to August 1, 2015?\n",
    "\n",
    "Shown below are the total number of visitors for that time duration (was also shown at the close to the start of this paper)"
   ]
  },
  {
   "cell_type": "code",
   "execution_count": 22,
   "metadata": {
    "_uuid": "db866fba2773c7ead76c119b7a474b7eff011daf"
   },
   "outputs": [
    {
     "data": {
      "text/plain": [
       "1407580"
      ]
     },
     "execution_count": 22,
     "metadata": {},
     "output_type": "execute_result"
    }
   ],
   "source": [
    "#Put all the visitor id in an array and sort it ascendingly\n",
    "all_visitors = events_df.visitorid.sort_values().unique()\n",
    "all_visitors.size"
   ]
  },
  {
   "cell_type": "code",
   "execution_count": 23,
   "metadata": {
    "_uuid": "1515dff17fcb03663ab1cdc5790c54cb71fc3c51"
   },
   "outputs": [
    {
     "data": {
      "text/plain": [
       "11719"
      ]
     },
     "execution_count": 23,
     "metadata": {},
     "output_type": "execute_result"
    }
   ],
   "source": [
    "buying_visitors = events_df[events_df.event == 'transaction'].visitorid.sort_values().unique()\n",
    "buying_visitors.size"
   ]
  },
  {
   "cell_type": "markdown",
   "metadata": {
    "_uuid": "d161f24f753483f53648c8238a94cc191301bf57"
   },
   "source": [
    "Out of 1,407,580 visitors, ony 11,719 bought something so around 1,395,861 visitors just viewed items"
   ]
  },
  {
   "cell_type": "code",
   "execution_count": 24,
   "metadata": {
    "_uuid": "cc6155c57a6d583f791f1374f4121a61f6d68a38"
   },
   "outputs": [],
   "source": [
    "viewing_visitors_list = list(set(all_visitors) - set(buying_visitors))\n"
   ]
  },
  {
   "cell_type": "markdown",
   "metadata": {
    "_uuid": "7995321edc13edfef2bdd964e6378eea8db42071"
   },
   "source": [
    "Now lets create a function that creates a dataframe with new features: visitorid, number of items viewed, total viewcount, bought something or not"
   ]
  },
  {
   "cell_type": "code",
   "execution_count": 25,
   "metadata": {
    "_uuid": "0ed8a26e3508cd9d4481245aaab2c8288594502a"
   },
   "outputs": [],
   "source": [
    "def create_dataframe(visitor_list):\n",
    "    \n",
    "    array_for_df = []\n",
    "    for index in visitor_list:\n",
    "\n",
    "        #Create that visitor's dataframe once\n",
    "        v_df = events_df[events_df.visitorid == index]\n",
    "\n",
    "        temp = []\n",
    "        #Add the visitor id\n",
    "        temp.append(index)\n",
    "\n",
    "        #Add the total number of unique products viewed\n",
    "        temp.append(v_df[v_df.event == 'view'].itemid.unique().size)\n",
    "\n",
    "        #Add the total number of views regardless of product type\n",
    "        temp.append(v_df[v_df.event == 'view'].event.count())\n",
    "\n",
    "        #Add the total number of purchases\n",
    "        number_of_items_bought = v_df[v_df.event == 'transaction'].event.count()\n",
    "        temp.append(number_of_items_bought)\n",
    "\n",
    "        #Then put either a zero or one if they made a purchase\n",
    "        if(number_of_items_bought == 0):\n",
    "            temp.append(0)\n",
    "        else:\n",
    "            temp.append(1)\n",
    "\n",
    "        array_for_df.append(temp)\n",
    "    \n",
    "    return pd.DataFrame(array_for_df, columns=['visitorid', 'num_items_viewed', 'view_count', 'bought_count', 'purchased'])"
   ]
  },
  {
   "cell_type": "markdown",
   "metadata": {
    "_uuid": "a3cfdac3465005deca40175fca10f40aac018d18"
   },
   "source": [
    "Let's apply this to buying visitors first"
   ]
  },
  {
   "cell_type": "code",
   "execution_count": 26,
   "metadata": {
    "_uuid": "da63e3adb439acc59c29b58d0f2b6fa161c84d7a"
   },
   "outputs": [],
   "source": [
    "buying_visitors_df = create_dataframe(buying_visitors)"
   ]
  },
  {
   "cell_type": "code",
   "execution_count": 27,
   "metadata": {
    "_uuid": "74440b541820313173618b4250bb6fc75e3cb2b6"
   },
   "outputs": [
    {
     "data": {
      "text/plain": [
       "(11719, 5)"
      ]
     },
     "execution_count": 27,
     "metadata": {},
     "output_type": "execute_result"
    }
   ],
   "source": [
    "buying_visitors_df.shape"
   ]
  },
  {
   "cell_type": "markdown",
   "metadata": {
    "_uuid": "d1254b5cd5e39e6e7c80ba86175be372ef1935ae"
   },
   "source": [
    "I think I'll only get around 27,821 samples from the viewing visitors list so that there is a 70-30 split for training and test data. "
   ]
  },
  {
   "cell_type": "code",
   "execution_count": 28,
   "metadata": {
    "_uuid": "d824087c811fd35f2809caf58e1492879d876b92",
    "scrolled": true
   },
   "outputs": [],
   "source": [
    "#Let's shuffle the viewing visitors list for randomness\n",
    "import random\n",
    "random.shuffle(viewing_visitors_list)"
   ]
  },
  {
   "cell_type": "code",
   "execution_count": 29,
   "metadata": {
    "_uuid": "6df69e02bda97255b57f122cee95504a7b12a887"
   },
   "outputs": [],
   "source": [
    "viewing_visitors_df = create_dataframe(viewing_visitors_list[0:27820])"
   ]
  },
  {
   "cell_type": "code",
   "execution_count": 30,
   "metadata": {
    "_uuid": "9b4e233095f68a709c24797849f922edd0081763"
   },
   "outputs": [
    {
     "data": {
      "text/plain": [
       "(27820, 5)"
      ]
     },
     "execution_count": 30,
     "metadata": {},
     "output_type": "execute_result"
    }
   ],
   "source": [
    "viewing_visitors_df.shape"
   ]
  },
  {
   "cell_type": "markdown",
   "metadata": {
    "_uuid": "0c1efb09b5e3a11121c7db2ef0223357c0ce0e15"
   },
   "source": [
    "Now let's combine the two dataframes"
   ]
  },
  {
   "cell_type": "code",
   "execution_count": 31,
   "metadata": {
    "_uuid": "d89280a1ed5bcba848b52227c1e0f4c2925a6094"
   },
   "outputs": [],
   "source": [
    "main_df = pd.concat([buying_visitors_df, viewing_visitors_df], ignore_index=True)"
   ]
  },
  {
   "cell_type": "markdown",
   "metadata": {
    "_uuid": "3deb6f42f516bea606c9158ec127c3a68c430337"
   },
   "source": [
    "Let's plot main_df and see if anything comes up"
   ]
  },
  {
   "cell_type": "code",
   "execution_count": 32,
   "metadata": {},
   "outputs": [
    {
     "data": {
      "text/html": [
       "<div>\n",
       "<style scoped>\n",
       "    .dataframe tbody tr th:only-of-type {\n",
       "        vertical-align: middle;\n",
       "    }\n",
       "\n",
       "    .dataframe tbody tr th {\n",
       "        vertical-align: top;\n",
       "    }\n",
       "\n",
       "    .dataframe thead th {\n",
       "        text-align: right;\n",
       "    }\n",
       "</style>\n",
       "<table border=\"1\" class=\"dataframe\">\n",
       "  <thead>\n",
       "    <tr style=\"text-align: right;\">\n",
       "      <th></th>\n",
       "      <th>visitorid</th>\n",
       "      <th>num_items_viewed</th>\n",
       "      <th>view_count</th>\n",
       "      <th>bought_count</th>\n",
       "      <th>purchased</th>\n",
       "    </tr>\n",
       "  </thead>\n",
       "  <tbody>\n",
       "    <tr>\n",
       "      <th>0</th>\n",
       "      <td>172</td>\n",
       "      <td>22</td>\n",
       "      <td>33</td>\n",
       "      <td>2</td>\n",
       "      <td>1</td>\n",
       "    </tr>\n",
       "    <tr>\n",
       "      <th>1</th>\n",
       "      <td>186</td>\n",
       "      <td>1</td>\n",
       "      <td>2</td>\n",
       "      <td>1</td>\n",
       "      <td>1</td>\n",
       "    </tr>\n",
       "    <tr>\n",
       "      <th>2</th>\n",
       "      <td>264</td>\n",
       "      <td>2</td>\n",
       "      <td>3</td>\n",
       "      <td>2</td>\n",
       "      <td>1</td>\n",
       "    </tr>\n",
       "    <tr>\n",
       "      <th>3</th>\n",
       "      <td>419</td>\n",
       "      <td>3</td>\n",
       "      <td>4</td>\n",
       "      <td>1</td>\n",
       "      <td>1</td>\n",
       "    </tr>\n",
       "    <tr>\n",
       "      <th>4</th>\n",
       "      <td>539</td>\n",
       "      <td>1</td>\n",
       "      <td>4</td>\n",
       "      <td>1</td>\n",
       "      <td>1</td>\n",
       "    </tr>\n",
       "    <tr>\n",
       "      <th>5</th>\n",
       "      <td>627</td>\n",
       "      <td>12</td>\n",
       "      <td>17</td>\n",
       "      <td>1</td>\n",
       "      <td>1</td>\n",
       "    </tr>\n",
       "    <tr>\n",
       "      <th>6</th>\n",
       "      <td>795</td>\n",
       "      <td>7</td>\n",
       "      <td>14</td>\n",
       "      <td>1</td>\n",
       "      <td>1</td>\n",
       "    </tr>\n",
       "    <tr>\n",
       "      <th>7</th>\n",
       "      <td>914</td>\n",
       "      <td>1</td>\n",
       "      <td>1</td>\n",
       "      <td>1</td>\n",
       "      <td>1</td>\n",
       "    </tr>\n",
       "    <tr>\n",
       "      <th>8</th>\n",
       "      <td>964</td>\n",
       "      <td>1</td>\n",
       "      <td>6</td>\n",
       "      <td>1</td>\n",
       "      <td>1</td>\n",
       "    </tr>\n",
       "    <tr>\n",
       "      <th>9</th>\n",
       "      <td>1032</td>\n",
       "      <td>3</td>\n",
       "      <td>5</td>\n",
       "      <td>1</td>\n",
       "      <td>1</td>\n",
       "    </tr>\n",
       "  </tbody>\n",
       "</table>\n",
       "</div>"
      ],
      "text/plain": [
       "   visitorid  num_items_viewed  view_count  bought_count  purchased\n",
       "0        172                22          33             2          1\n",
       "1        186                 1           2             1          1\n",
       "2        264                 2           3             2          1\n",
       "3        419                 3           4             1          1\n",
       "4        539                 1           4             1          1\n",
       "5        627                12          17             1          1\n",
       "6        795                 7          14             1          1\n",
       "7        914                 1           1             1          1\n",
       "8        964                 1           6             1          1\n",
       "9       1032                 3           5             1          1"
      ]
     },
     "execution_count": 32,
     "metadata": {},
     "output_type": "execute_result"
    }
   ],
   "source": [
    "main_df.head(10)"
   ]
  },
  {
   "cell_type": "code",
   "execution_count": 33,
   "metadata": {
    "_uuid": "e6cdf7de37aa91c607625c0f92e76ab634a59633"
   },
   "outputs": [],
   "source": [
    "#Let's shuffle main_df first\n",
    "main_df = main_df.sample(frac=1)"
   ]
  },
  {
   "cell_type": "code",
   "execution_count": 34,
   "metadata": {
    "_uuid": "41f454dc2d3ae80f3f3cb312e62554d895fff5b6"
   },
   "outputs": [
    {
     "name": "stderr",
     "output_type": "stream",
     "text": [
      "/swst/apps/anaconda3/2021.05_gcc-8.5.0/lib/python3.8/site-packages/seaborn/distributions.py:306: UserWarning: Dataset has 0 variance; skipping density estimate.\n",
      "  warnings.warn(msg, UserWarning)\n"
     ]
    },
    {
     "data": {
      "text/plain": [
       "<seaborn.axisgrid.PairGrid at 0x14df0df22df0>"
      ]
     },
     "execution_count": 34,
     "metadata": {},
     "output_type": "execute_result"
    },
    {
     "data": {
      "image/png": "[encoded data removed]",
      "text/plain": [
       "<Figure size 600.25x540 with 12 Axes>"
      ]
     },
     "metadata": {
      "needs_background": "light"
     },
     "output_type": "display_data"
    }
   ],
   "source": [
    "#Plot the data\n",
    "sns.pairplot(main_df, x_vars = ['num_items_viewed', 'view_count', 'bought_count'],\n",
    "             y_vars = ['num_items_viewed', 'view_count', 'bought_count'],  hue = 'purchased')"
   ]
  },
  {
   "cell_type": "markdown",
   "metadata": {
    "_uuid": "098602891195d003637864322624561bdaac89ff"
   },
   "source": [
    "The plot above clearly indicates that the higher the view count, the higher the chances of that visitor buying something. Duh!"
   ]
  },
  {
   "cell_type": "markdown",
   "metadata": {
    "_uuid": "d717d128266cbcf7e2a8ad912a8f4c148c3555a9"
   },
   "source": [
    "# Since the relationship is Linear, let's try a simple Logistic Regression model to predict future visitor purchase behaviour"
   ]
  },
  {
   "cell_type": "markdown",
   "metadata": {
    "_uuid": "9dec9c1db83bf1b27c2b49fead0de5cd0cf09a91"
   },
   "source": [
    "We separate the features (drop visitorid since it's categorical data and bought count) and the target (which is whether the visitor bought something or not)"
   ]
  },
  {
   "cell_type": "code",
   "execution_count": 35,
   "metadata": {},
   "outputs": [
    {
     "data": {
      "text/html": [
       "<div>\n",
       "<style scoped>\n",
       "    .dataframe tbody tr th:only-of-type {\n",
       "        vertical-align: middle;\n",
       "    }\n",
       "\n",
       "    .dataframe tbody tr th {\n",
       "        vertical-align: top;\n",
       "    }\n",
       "\n",
       "    .dataframe thead th {\n",
       "        text-align: right;\n",
       "    }\n",
       "</style>\n",
       "<table border=\"1\" class=\"dataframe\">\n",
       "  <thead>\n",
       "    <tr style=\"text-align: right;\">\n",
       "      <th></th>\n",
       "      <th>visitorid</th>\n",
       "      <th>num_items_viewed</th>\n",
       "      <th>view_count</th>\n",
       "      <th>bought_count</th>\n",
       "      <th>purchased</th>\n",
       "    </tr>\n",
       "  </thead>\n",
       "  <tbody>\n",
       "    <tr>\n",
       "      <th>26838</th>\n",
       "      <td>1215922</td>\n",
       "      <td>1</td>\n",
       "      <td>1</td>\n",
       "      <td>0</td>\n",
       "      <td>0</td>\n",
       "    </tr>\n",
       "    <tr>\n",
       "      <th>31597</th>\n",
       "      <td>1231115</td>\n",
       "      <td>1</td>\n",
       "      <td>1</td>\n",
       "      <td>0</td>\n",
       "      <td>0</td>\n",
       "    </tr>\n",
       "    <tr>\n",
       "      <th>32497</th>\n",
       "      <td>1241898</td>\n",
       "      <td>2</td>\n",
       "      <td>3</td>\n",
       "      <td>0</td>\n",
       "      <td>0</td>\n",
       "    </tr>\n",
       "    <tr>\n",
       "      <th>11210</th>\n",
       "      <td>1344553</td>\n",
       "      <td>4</td>\n",
       "      <td>7</td>\n",
       "      <td>2</td>\n",
       "      <td>1</td>\n",
       "    </tr>\n",
       "    <tr>\n",
       "      <th>5747</th>\n",
       "      <td>702000</td>\n",
       "      <td>3</td>\n",
       "      <td>11</td>\n",
       "      <td>2</td>\n",
       "      <td>1</td>\n",
       "    </tr>\n",
       "    <tr>\n",
       "      <th>...</th>\n",
       "      <td>...</td>\n",
       "      <td>...</td>\n",
       "      <td>...</td>\n",
       "      <td>...</td>\n",
       "      <td>...</td>\n",
       "    </tr>\n",
       "    <tr>\n",
       "      <th>2504</th>\n",
       "      <td>305493</td>\n",
       "      <td>3</td>\n",
       "      <td>3</td>\n",
       "      <td>2</td>\n",
       "      <td>1</td>\n",
       "    </tr>\n",
       "    <tr>\n",
       "      <th>23031</th>\n",
       "      <td>1060386</td>\n",
       "      <td>7</td>\n",
       "      <td>11</td>\n",
       "      <td>0</td>\n",
       "      <td>0</td>\n",
       "    </tr>\n",
       "    <tr>\n",
       "      <th>28325</th>\n",
       "      <td>888416</td>\n",
       "      <td>1</td>\n",
       "      <td>1</td>\n",
       "      <td>0</td>\n",
       "      <td>0</td>\n",
       "    </tr>\n",
       "    <tr>\n",
       "      <th>12074</th>\n",
       "      <td>857931</td>\n",
       "      <td>1</td>\n",
       "      <td>1</td>\n",
       "      <td>0</td>\n",
       "      <td>0</td>\n",
       "    </tr>\n",
       "    <tr>\n",
       "      <th>12419</th>\n",
       "      <td>1186218</td>\n",
       "      <td>1</td>\n",
       "      <td>1</td>\n",
       "      <td>0</td>\n",
       "      <td>0</td>\n",
       "    </tr>\n",
       "  </tbody>\n",
       "</table>\n",
       "<p>39539 rows × 5 columns</p>\n",
       "</div>"
      ],
      "text/plain": [
       "       visitorid  num_items_viewed  view_count  bought_count  purchased\n",
       "26838    1215922                 1           1             0          0\n",
       "31597    1231115                 1           1             0          0\n",
       "32497    1241898                 2           3             0          0\n",
       "11210    1344553                 4           7             2          1\n",
       "5747      702000                 3          11             2          1\n",
       "...          ...               ...         ...           ...        ...\n",
       "2504      305493                 3           3             2          1\n",
       "23031    1060386                 7          11             0          0\n",
       "28325     888416                 1           1             0          0\n",
       "12074     857931                 1           1             0          0\n",
       "12419    1186218                 1           1             0          0\n",
       "\n",
       "[39539 rows x 5 columns]"
      ]
     },
     "execution_count": 35,
     "metadata": {},
     "output_type": "execute_result"
    }
   ],
   "source": [
    "main_df"
   ]
  },
  {
   "cell_type": "code",
   "execution_count": 36,
   "metadata": {
    "_uuid": "1e0a989b52bf8a278b1180a457cf5345636a91fa"
   },
   "outputs": [],
   "source": [
    "X = main_df.drop(['purchased', 'visitorid', 'bought_count'], axis = 'columns')\n",
    "y = main_df.purchased"
   ]
  },
  {
   "cell_type": "code",
   "execution_count": 37,
   "metadata": {
    "_uuid": "92c543b2c1496089ad4696c70c8753430cb86908"
   },
   "outputs": [],
   "source": [
    "X_train, X_test, y_train, y_test = train_test_split(X, y, random_state = 42, train_size = 0.7)"
   ]
  },
  {
   "cell_type": "code",
   "execution_count": 38,
   "metadata": {
    "_uuid": "5418139f6bef514646c6222f8115826e0f4b607c"
   },
   "outputs": [],
   "source": [
    "logreg = LogisticRegression()"
   ]
  },
  {
   "cell_type": "code",
   "execution_count": 39,
   "metadata": {
    "_uuid": "44c213c6d1d72552d6faabd8ccbaeedba6abf605"
   },
   "outputs": [
    {
     "data": {
      "text/plain": [
       "LogisticRegression()"
      ]
     },
     "execution_count": 39,
     "metadata": {},
     "output_type": "execute_result"
    }
   ],
   "source": [
    "logreg.fit(X_train, y_train)"
   ]
  },
  {
   "cell_type": "code",
   "execution_count": 40,
   "metadata": {
    "_uuid": "cb970e550f7401bdc797e441fb809b8c51269c4f"
   },
   "outputs": [],
   "source": [
    "# Let's now use the model to predict the test features\n",
    "y_pred_class = logreg.predict(X_test)"
   ]
  },
  {
   "cell_type": "code",
   "execution_count": 41,
   "metadata": {
    "_uuid": "51f4f5374a3033c706e182e9d2cbeec6519a4790"
   },
   "outputs": [
    {
     "name": "stdout",
     "output_type": "stream",
     "text": [
      "accuracy =  0.7983\n"
     ]
    }
   ],
   "source": [
    "print('accuracy = {:7.4f}'.format(metrics.accuracy_score(y_test, y_pred_class)))"
   ]
  },
  {
   "cell_type": "markdown",
   "metadata": {
    "_uuid": "1b748e6256d5c2923176eef3aabb1a32e50a58e2"
   },
   "source": [
    "# So our model's accuracy in predicting buying visitors is around 79.46%"
   ]
  },
  {
   "cell_type": "code",
   "execution_count": 42,
   "metadata": {
    "_uuid": "f2a51c427e536f5216b37fabd006e950742df753"
   },
   "outputs": [
    {
     "data": {
      "image/png": "[encoded data removed]",
      "text/plain": [
       "<Figure size 432x288 with 1 Axes>"
      ]
     },
     "metadata": {
      "needs_background": "light"
     },
     "output_type": "display_data"
    }
   ],
   "source": [
    "# Generate the prediction values for each of the test observations using predict_proba() function rather than just predict\n",
    "preds = logreg.predict_proba(X_test)[:,1]\n",
    "\n",
    "# Store the false positive rate(fpr), true positive rate (tpr) in vectors for use in the graph\n",
    "fpr, tpr, _ = metrics.roc_curve(y_test, preds)\n",
    "\n",
    "# Store the Area Under the Curve (AUC) so we can annotate our graph with theis metric\n",
    "roc_auc = metrics.auc(fpr, tpr)\n",
    "\n",
    "# Plot the ROC Curve\n",
    "plt.figure()\n",
    "lw = 2\n",
    "plt.plot(fpr, tpr, color='darkorange', lw = lw, label = 'ROC curve (area = %0.2f)' % roc_auc)\n",
    "plt.plot([0, 1], [0, 1], color = 'navy', lw = lw, linestyle = '--')\n",
    "plt.xlim([0.0, 1.0])\n",
    "plt.ylim([0.0, 1.05])\n",
    "plt.xlabel('False Positive Rate')\n",
    "plt.ylabel('True Positive Rate')\n",
    "plt.title('Receiver operating characteristic')\n",
    "plt.legend(loc = \"lower right\")\n",
    "plt.show()"
   ]
  },
  {
   "cell_type": "markdown",
   "metadata": {
    "_uuid": "0bfe9871fc860a7061e05ca975cbd760dcae3864"
   },
   "source": [
    "The graph above shows the accuracy of our binary classifier (Logistic Regression). Just means that the closer the orange curve leans to the top left hand part of the graph, the better the accuracy."
   ]
  },
  {
   "cell_type": "markdown",
   "metadata": {},
   "source": [
    "# My Implementation Using Decision Tree Classification to help improve this model"
   ]
  },
  {
   "cell_type": "code",
   "execution_count": 43,
   "metadata": {},
   "outputs": [],
   "source": [
    "#pip install catboost"
   ]
  },
  {
   "cell_type": "code",
   "execution_count": 44,
   "metadata": {},
   "outputs": [],
   "source": [
    "import catboost\n",
    "from catboost import CatBoostClassifier\n",
    "from sklearn.metrics import accuracy_score"
   ]
  },
  {
   "cell_type": "markdown",
   "metadata": {},
   "source": [
    "## Make an example model to make sure it runs"
   ]
  },
  {
   "cell_type": "code",
   "execution_count": 45,
   "metadata": {},
   "outputs": [
    {
     "name": "stdout",
     "output_type": "stream",
     "text": [
      "0:\tlearn: 0.6366150\ttest: 0.6373860\tbest: 0.6373860 (0)\ttotal: 65.6ms\tremaining: 22.9s\n",
      "10:\tlearn: 0.4510896\ttest: 0.4537411\tbest: 0.4537411 (10)\ttotal: 104ms\tremaining: 3.21s\n",
      "20:\tlearn: 0.4289354\ttest: 0.4320081\tbest: 0.4320081 (20)\ttotal: 142ms\tremaining: 2.22s\n",
      "30:\tlearn: 0.4242445\ttest: 0.4273908\tbest: 0.4273908 (30)\ttotal: 178ms\tremaining: 1.83s\n",
      "40:\tlearn: 0.4223937\ttest: 0.4258624\tbest: 0.4258624 (40)\ttotal: 216ms\tremaining: 1.63s\n",
      "50:\tlearn: 0.4214827\ttest: 0.4253033\tbest: 0.4253033 (50)\ttotal: 253ms\tremaining: 1.49s\n",
      "60:\tlearn: 0.4210493\ttest: 0.4251943\tbest: 0.4251943 (60)\ttotal: 292ms\tremaining: 1.39s\n",
      "70:\tlearn: 0.4205721\ttest: 0.4249738\tbest: 0.4249641 (67)\ttotal: 330ms\tremaining: 1.3s\n",
      "80:\tlearn: 0.4202996\ttest: 0.4248870\tbest: 0.4248870 (80)\ttotal: 369ms\tremaining: 1.22s\n",
      "90:\tlearn: 0.4200201\ttest: 0.4247900\tbest: 0.4247813 (89)\ttotal: 407ms\tremaining: 1.16s\n",
      "100:\tlearn: 0.4196078\ttest: 0.4245951\tbest: 0.4245887 (99)\ttotal: 445ms\tremaining: 1.1s\n",
      "110:\tlearn: 0.4192844\ttest: 0.4244628\tbest: 0.4244401 (109)\ttotal: 481ms\tremaining: 1.04s\n",
      "120:\tlearn: 0.4187516\ttest: 0.4242821\tbest: 0.4242821 (120)\ttotal: 519ms\tremaining: 983ms\n",
      "130:\tlearn: 0.4183965\ttest: 0.4243222\tbest: 0.4242820 (122)\ttotal: 558ms\tremaining: 932ms\n",
      "140:\tlearn: 0.4180361\ttest: 0.4244171\tbest: 0.4242820 (122)\ttotal: 596ms\tremaining: 884ms\n",
      "Stopped by overfitting detector  (25 iterations wait)\n",
      "\n",
      "bestTest = 0.4242819949\n",
      "bestIteration = 122\n",
      "\n",
      "Shrink model to first 123 iterations.\n",
      "Accuracy: 0.8228797841847918\n"
     ]
    }
   ],
   "source": [
    "# Creating CatBoost Model\n",
    "model = CatBoostClassifier(iterations=350, learning_rate=0.1, depth=6, loss_function='Logloss')\n",
    "\n",
    "# Training\n",
    "model.fit(X_train, y_train, eval_set=(X_test, y_test), early_stopping_rounds=25, verbose=10)\n",
    "\n",
    "# Predict\n",
    "y_pred = model.predict(X_test)\n",
    "\n",
    "# Evaluating the model\n",
    "accuracy = accuracy_score(y_test, y_pred)\n",
    "print(f\"Accuracy: {accuracy}\")"
   ]
  },
  {
   "cell_type": "markdown",
   "metadata": {},
   "source": [
    "# Use Grid Search Cross Validation to help find best parameters"
   ]
  },
  {
   "cell_type": "code",
   "execution_count": 46,
   "metadata": {},
   "outputs": [],
   "source": [
    "from sklearn.model_selection import GridSearchCV\n",
    "model = CatBoostClassifier(verbose=0)"
   ]
  },
  {
   "cell_type": "code",
   "execution_count": 47,
   "metadata": {},
   "outputs": [],
   "source": [
    "param_grid = {\n",
    "    'iterations': [350],\n",
    "    'learning_rate': [0.1, 0.01, 0.05, 0.001],\n",
    "    'depth': [6, 8, 10, 12, 16],\n",
    "    \"loss_function\":['Logloss'] ,\n",
    "    \"early_stopping_rounds\": [25]\n",
    "}"
   ]
  },
  {
   "cell_type": "code",
   "execution_count": 48,
   "metadata": {},
   "outputs": [
    {
     "data": {
      "text/plain": [
       "GridSearchCV(cv=5,\n",
       "             estimator=<catboost.core.CatBoostClassifier object at 0x14ad1e400670>,\n",
       "             param_grid={'depth': [6, 8, 10, 12, 16],\n",
       "                         'early_stopping_rounds': [25], 'iterations': [350],\n",
       "                         'learning_rate': [0.1, 0.01, 0.05, 0.001],\n",
       "                         'loss_function': ['Logloss']},\n",
       "             scoring='accuracy')"
      ]
     },
     "execution_count": 48,
     "metadata": {},
     "output_type": "execute_result"
    }
   ],
   "source": [
    "grid_search = GridSearchCV(estimator=model, param_grid=param_grid, cv=5, scoring='accuracy', verbose = 0)\n",
    "grid_search.fit(X, y)"
   ]
  },
  {
   "cell_type": "code",
   "execution_count": 49,
   "metadata": {},
   "outputs": [],
   "source": [
    "best_model = grid_search.best_estimator_\n",
    "best_params = grid_search.best_params_\n",
    "best_score = grid_search.best_score_\n",
    "best_iteration = best_model.get_best_iteration()"
   ]
  },
  {
   "cell_type": "code",
   "execution_count": 50,
   "metadata": {},
   "outputs": [
    {
     "name": "stdout",
     "output_type": "stream",
     "text": [
      "Best Parameters: {'depth': 8, 'early_stopping_rounds': 25, 'iterations': 350, 'learning_rate': 0.05, 'loss_function': 'Logloss'}\n",
      "Best Score: 0.8222767018640251\n",
      "Best Iteration None\n"
     ]
    }
   ],
   "source": [
    "print(\"Best Parameters:\", best_params)\n",
    "print(\"Best Score:\", best_score)\n",
    "print(\"Best Iteration\", best_iteration)\n",
    "#Best Parameters: {'depth': 8, 'early_stopping_rounds': 25, 'iterations': 350, 'learning_rate': 0.05, 'loss_function': 'Logloss'}\n",
    "#Best Score: 0.8222767018640251\n",
    "#Best Iteration None"
   ]
  },
  {
   "cell_type": "markdown",
   "metadata": {},
   "source": [
    "## Here would be our best model based on Grid Search "
   ]
  },
  {
   "cell_type": "code",
   "execution_count": 53,
   "metadata": {},
   "outputs": [
    {
     "name": "stdout",
     "output_type": "stream",
     "text": [
      "0:\tlearn: 0.6638759\ttest: 0.6642920\tbest: 0.6642920 (0)\ttotal: 8.64ms\tremaining: 3.02s\n",
      "10:\tlearn: 0.5072719\ttest: 0.5091961\tbest: 0.5091961 (10)\ttotal: 60.9ms\tremaining: 1.88s\n",
      "20:\tlearn: 0.4539465\ttest: 0.4566684\tbest: 0.4566684 (20)\ttotal: 114ms\tremaining: 1.79s\n",
      "30:\tlearn: 0.4364354\ttest: 0.4393883\tbest: 0.4393883 (30)\ttotal: 170ms\tremaining: 1.75s\n",
      "40:\tlearn: 0.4291358\ttest: 0.4322599\tbest: 0.4322599 (40)\ttotal: 224ms\tremaining: 1.69s\n",
      "50:\tlearn: 0.4255605\ttest: 0.4288875\tbest: 0.4288875 (50)\ttotal: 279ms\tremaining: 1.64s\n",
      "60:\tlearn: 0.4236089\ttest: 0.4270798\tbest: 0.4270798 (60)\ttotal: 335ms\tremaining: 1.58s\n",
      "70:\tlearn: 0.4225842\ttest: 0.4261732\tbest: 0.4261732 (70)\ttotal: 388ms\tremaining: 1.52s\n",
      "80:\tlearn: 0.4218998\ttest: 0.4256743\tbest: 0.4256743 (80)\ttotal: 444ms\tremaining: 1.47s\n",
      "90:\tlearn: 0.4213139\ttest: 0.4252873\tbest: 0.4252873 (90)\ttotal: 496ms\tremaining: 1.41s\n",
      "100:\tlearn: 0.4209145\ttest: 0.4250942\tbest: 0.4250878 (97)\ttotal: 551ms\tremaining: 1.36s\n",
      "110:\tlearn: 0.4206237\ttest: 0.4249503\tbest: 0.4249464 (108)\ttotal: 606ms\tremaining: 1.3s\n",
      "120:\tlearn: 0.4203507\ttest: 0.4248063\tbest: 0.4248063 (120)\ttotal: 660ms\tremaining: 1.25s\n",
      "130:\tlearn: 0.4201603\ttest: 0.4247451\tbest: 0.4247451 (130)\ttotal: 715ms\tremaining: 1.19s\n",
      "140:\tlearn: 0.4199462\ttest: 0.4246744\tbest: 0.4246744 (140)\ttotal: 769ms\tremaining: 1.14s\n",
      "150:\tlearn: 0.4197988\ttest: 0.4246424\tbest: 0.4246410 (148)\ttotal: 822ms\tremaining: 1.08s\n",
      "160:\tlearn: 0.4196776\ttest: 0.4246162\tbest: 0.4246162 (160)\ttotal: 872ms\tremaining: 1.02s\n",
      "170:\tlearn: 0.4195514\ttest: 0.4246030\tbest: 0.4246002 (169)\ttotal: 924ms\tremaining: 967ms\n",
      "180:\tlearn: 0.4194007\ttest: 0.4245812\tbest: 0.4245792 (179)\ttotal: 978ms\tremaining: 913ms\n",
      "190:\tlearn: 0.4193036\ttest: 0.4245536\tbest: 0.4245536 (190)\ttotal: 1.03s\tremaining: 858ms\n",
      "200:\tlearn: 0.4191141\ttest: 0.4245235\tbest: 0.4245235 (200)\ttotal: 1.08s\tremaining: 805ms\n",
      "210:\tlearn: 0.4189804\ttest: 0.4244741\tbest: 0.4244741 (210)\ttotal: 1.14s\tremaining: 749ms\n",
      "220:\tlearn: 0.4187795\ttest: 0.4244231\tbest: 0.4244152 (216)\ttotal: 1.19s\tremaining: 696ms\n",
      "230:\tlearn: 0.4186107\ttest: 0.4244403\tbest: 0.4244152 (216)\ttotal: 1.25s\tremaining: 641ms\n",
      "240:\tlearn: 0.4182661\ttest: 0.4243272\tbest: 0.4243272 (240)\ttotal: 1.3s\tremaining: 588ms\n",
      "250:\tlearn: 0.4180461\ttest: 0.4243023\tbest: 0.4243023 (250)\ttotal: 1.35s\tremaining: 533ms\n",
      "260:\tlearn: 0.4177700\ttest: 0.4243062\tbest: 0.4243018 (251)\ttotal: 1.41s\tremaining: 480ms\n",
      "270:\tlearn: 0.4175382\ttest: 0.4243321\tbest: 0.4243018 (251)\ttotal: 1.46s\tremaining: 425ms\n",
      "Stopped by overfitting detector  (25 iterations wait)\n",
      "\n",
      "bestTest = 0.4243018331\n",
      "bestIteration = 251\n",
      "\n",
      "Shrink model to first 252 iterations.\n",
      "Accuracy: 0.8221210588433654\n"
     ]
    }
   ],
   "source": [
    "model = CatBoostClassifier(iterations=350, learning_rate=0.05, depth=8, loss_function='Logloss')\n",
    "model.fit(X_train, y_train, eval_set=(X_test, y_test), early_stopping_rounds=25, verbose=10)\n",
    "\n",
    "y_pred = model.predict(X_test)\n",
    "\n",
    "accuracy = accuracy_score(y_test, y_pred)\n",
    "print(f\"Accuracy: {accuracy}\")"
   ]
  },
  {
   "cell_type": "markdown",
   "metadata": {},
   "source": [
    "# How can we change up the data"
   ]
  },
  {
   "cell_type": "code",
   "execution_count": 460,
   "metadata": {},
   "outputs": [],
   "source": [
    "events_df = pd.read_csv(\"/storage/work/ajk6604/DS340w/events.csv\")\n",
    "category_tree_df = pd.read_csv(\"/storage/work/ajk6604/DS340w/category_tree.csv\")\n",
    "item_properties_1_df = pd.read_csv(\"/storage/work/ajk6604/DS340w/item_properties_part1.csv\")\n",
    "item_properties_2_df = pd.read_csv(\"/storage/work/ajk6604/DS340w/item_properties_part2.csv\")"
   ]
  },
  {
   "cell_type": "code",
   "execution_count": 461,
   "metadata": {},
   "outputs": [
    {
     "data": {
      "text/html": [
       "<div>\n",
       "<style scoped>\n",
       "    .dataframe tbody tr th:only-of-type {\n",
       "        vertical-align: middle;\n",
       "    }\n",
       "\n",
       "    .dataframe tbody tr th {\n",
       "        vertical-align: top;\n",
       "    }\n",
       "\n",
       "    .dataframe thead th {\n",
       "        text-align: right;\n",
       "    }\n",
       "</style>\n",
       "<table border=\"1\" class=\"dataframe\">\n",
       "  <thead>\n",
       "    <tr style=\"text-align: right;\">\n",
       "      <th></th>\n",
       "      <th>timestamp</th>\n",
       "      <th>visitorid</th>\n",
       "      <th>event</th>\n",
       "      <th>itemid</th>\n",
       "      <th>transactionid</th>\n",
       "    </tr>\n",
       "  </thead>\n",
       "  <tbody>\n",
       "    <tr>\n",
       "      <th>0</th>\n",
       "      <td>1433221332117</td>\n",
       "      <td>257597</td>\n",
       "      <td>view</td>\n",
       "      <td>355908</td>\n",
       "      <td>NaN</td>\n",
       "    </tr>\n",
       "    <tr>\n",
       "      <th>1</th>\n",
       "      <td>1433224214164</td>\n",
       "      <td>992329</td>\n",
       "      <td>view</td>\n",
       "      <td>248676</td>\n",
       "      <td>NaN</td>\n",
       "    </tr>\n",
       "    <tr>\n",
       "      <th>2</th>\n",
       "      <td>1433221999827</td>\n",
       "      <td>111016</td>\n",
       "      <td>view</td>\n",
       "      <td>318965</td>\n",
       "      <td>NaN</td>\n",
       "    </tr>\n",
       "    <tr>\n",
       "      <th>3</th>\n",
       "      <td>1433221955914</td>\n",
       "      <td>483717</td>\n",
       "      <td>view</td>\n",
       "      <td>253185</td>\n",
       "      <td>NaN</td>\n",
       "    </tr>\n",
       "    <tr>\n",
       "      <th>4</th>\n",
       "      <td>1433221337106</td>\n",
       "      <td>951259</td>\n",
       "      <td>view</td>\n",
       "      <td>367447</td>\n",
       "      <td>NaN</td>\n",
       "    </tr>\n",
       "  </tbody>\n",
       "</table>\n",
       "</div>"
      ],
      "text/plain": [
       "       timestamp  visitorid event  itemid  transactionid\n",
       "0  1433221332117     257597  view  355908            NaN\n",
       "1  1433224214164     992329  view  248676            NaN\n",
       "2  1433221999827     111016  view  318965            NaN\n",
       "3  1433221955914     483717  view  253185            NaN\n",
       "4  1433221337106     951259  view  367447            NaN"
      ]
     },
     "execution_count": 461,
     "metadata": {},
     "output_type": "execute_result"
    }
   ],
   "source": [
    "events_df.head(5)"
   ]
  },
  {
   "cell_type": "code",
   "execution_count": 462,
   "metadata": {},
   "outputs": [
    {
     "data": {
      "text/html": [
       "<div>\n",
       "<style scoped>\n",
       "    .dataframe tbody tr th:only-of-type {\n",
       "        vertical-align: middle;\n",
       "    }\n",
       "\n",
       "    .dataframe tbody tr th {\n",
       "        vertical-align: top;\n",
       "    }\n",
       "\n",
       "    .dataframe thead th {\n",
       "        text-align: right;\n",
       "    }\n",
       "</style>\n",
       "<table border=\"1\" class=\"dataframe\">\n",
       "  <thead>\n",
       "    <tr style=\"text-align: right;\">\n",
       "      <th></th>\n",
       "      <th>categoryid</th>\n",
       "      <th>parentid</th>\n",
       "    </tr>\n",
       "  </thead>\n",
       "  <tbody>\n",
       "    <tr>\n",
       "      <th>0</th>\n",
       "      <td>1016</td>\n",
       "      <td>213.0</td>\n",
       "    </tr>\n",
       "    <tr>\n",
       "      <th>1</th>\n",
       "      <td>809</td>\n",
       "      <td>169.0</td>\n",
       "    </tr>\n",
       "    <tr>\n",
       "      <th>2</th>\n",
       "      <td>570</td>\n",
       "      <td>9.0</td>\n",
       "    </tr>\n",
       "    <tr>\n",
       "      <th>3</th>\n",
       "      <td>1691</td>\n",
       "      <td>885.0</td>\n",
       "    </tr>\n",
       "    <tr>\n",
       "      <th>4</th>\n",
       "      <td>536</td>\n",
       "      <td>1691.0</td>\n",
       "    </tr>\n",
       "  </tbody>\n",
       "</table>\n",
       "</div>"
      ],
      "text/plain": [
       "   categoryid  parentid\n",
       "0        1016     213.0\n",
       "1         809     169.0\n",
       "2         570       9.0\n",
       "3        1691     885.0\n",
       "4         536    1691.0"
      ]
     },
     "execution_count": 462,
     "metadata": {},
     "output_type": "execute_result"
    }
   ],
   "source": [
    "category_tree_df.head(5)"
   ]
  },
  {
   "cell_type": "code",
   "execution_count": 463,
   "metadata": {},
   "outputs": [
    {
     "data": {
      "text/html": [
       "<div>\n",
       "<style scoped>\n",
       "    .dataframe tbody tr th:only-of-type {\n",
       "        vertical-align: middle;\n",
       "    }\n",
       "\n",
       "    .dataframe tbody tr th {\n",
       "        vertical-align: top;\n",
       "    }\n",
       "\n",
       "    .dataframe thead th {\n",
       "        text-align: right;\n",
       "    }\n",
       "</style>\n",
       "<table border=\"1\" class=\"dataframe\">\n",
       "  <thead>\n",
       "    <tr style=\"text-align: right;\">\n",
       "      <th></th>\n",
       "      <th>timestamp</th>\n",
       "      <th>itemid</th>\n",
       "      <th>property</th>\n",
       "      <th>value</th>\n",
       "    </tr>\n",
       "  </thead>\n",
       "  <tbody>\n",
       "    <tr>\n",
       "      <th>10999994</th>\n",
       "      <td>1439694000000</td>\n",
       "      <td>86599</td>\n",
       "      <td>categoryid</td>\n",
       "      <td>618</td>\n",
       "    </tr>\n",
       "    <tr>\n",
       "      <th>10999995</th>\n",
       "      <td>1435460400000</td>\n",
       "      <td>153032</td>\n",
       "      <td>1066</td>\n",
       "      <td>n1020.000 424566</td>\n",
       "    </tr>\n",
       "    <tr>\n",
       "      <th>10999996</th>\n",
       "      <td>1440298800000</td>\n",
       "      <td>421788</td>\n",
       "      <td>888</td>\n",
       "      <td>35975 856003 37346</td>\n",
       "    </tr>\n",
       "    <tr>\n",
       "      <th>10999997</th>\n",
       "      <td>1437879600000</td>\n",
       "      <td>159792</td>\n",
       "      <td>400</td>\n",
       "      <td>n552.000 639502 n720.000 424566</td>\n",
       "    </tr>\n",
       "    <tr>\n",
       "      <th>10999998</th>\n",
       "      <td>1436065200000</td>\n",
       "      <td>464846</td>\n",
       "      <td>790</td>\n",
       "      <td>n410640.000</td>\n",
       "    </tr>\n",
       "  </tbody>\n",
       "</table>\n",
       "</div>"
      ],
      "text/plain": [
       "              timestamp  itemid    property                            value\n",
       "10999994  1439694000000   86599  categoryid                              618\n",
       "10999995  1435460400000  153032        1066                 n1020.000 424566\n",
       "10999996  1440298800000  421788         888               35975 856003 37346\n",
       "10999997  1437879600000  159792         400  n552.000 639502 n720.000 424566\n",
       "10999998  1436065200000  464846         790                      n410640.000"
      ]
     },
     "execution_count": 463,
     "metadata": {},
     "output_type": "execute_result"
    }
   ],
   "source": [
    "item_properties_1_df.tail(5)\n"
   ]
  },
  {
   "cell_type": "code",
   "execution_count": 464,
   "metadata": {},
   "outputs": [
    {
     "data": {
      "text/html": [
       "<div>\n",
       "<style scoped>\n",
       "    .dataframe tbody tr th:only-of-type {\n",
       "        vertical-align: middle;\n",
       "    }\n",
       "\n",
       "    .dataframe tbody tr th {\n",
       "        vertical-align: top;\n",
       "    }\n",
       "\n",
       "    .dataframe thead th {\n",
       "        text-align: right;\n",
       "    }\n",
       "</style>\n",
       "<table border=\"1\" class=\"dataframe\">\n",
       "  <thead>\n",
       "    <tr style=\"text-align: right;\">\n",
       "      <th></th>\n",
       "      <th>timestamp</th>\n",
       "      <th>itemid</th>\n",
       "      <th>property</th>\n",
       "      <th>value</th>\n",
       "    </tr>\n",
       "  </thead>\n",
       "  <tbody>\n",
       "    <tr>\n",
       "      <th>9275898</th>\n",
       "      <td>1433646000000</td>\n",
       "      <td>236931</td>\n",
       "      <td>929</td>\n",
       "      <td>n12.000</td>\n",
       "    </tr>\n",
       "    <tr>\n",
       "      <th>9275899</th>\n",
       "      <td>1440903600000</td>\n",
       "      <td>455746</td>\n",
       "      <td>6</td>\n",
       "      <td>150169 639134</td>\n",
       "    </tr>\n",
       "    <tr>\n",
       "      <th>9275900</th>\n",
       "      <td>1439694000000</td>\n",
       "      <td>347565</td>\n",
       "      <td>686</td>\n",
       "      <td>610834</td>\n",
       "    </tr>\n",
       "    <tr>\n",
       "      <th>9275901</th>\n",
       "      <td>1433646000000</td>\n",
       "      <td>287231</td>\n",
       "      <td>867</td>\n",
       "      <td>769062</td>\n",
       "    </tr>\n",
       "    <tr>\n",
       "      <th>9275902</th>\n",
       "      <td>1442113200000</td>\n",
       "      <td>275768</td>\n",
       "      <td>888</td>\n",
       "      <td>888666 n10800.000 746840 1318567</td>\n",
       "    </tr>\n",
       "  </tbody>\n",
       "</table>\n",
       "</div>"
      ],
      "text/plain": [
       "             timestamp  itemid property                             value\n",
       "9275898  1433646000000  236931      929                           n12.000\n",
       "9275899  1440903600000  455746        6                     150169 639134\n",
       "9275900  1439694000000  347565      686                            610834\n",
       "9275901  1433646000000  287231      867                            769062\n",
       "9275902  1442113200000  275768      888  888666 n10800.000 746840 1318567"
      ]
     },
     "execution_count": 464,
     "metadata": {},
     "output_type": "execute_result"
    }
   ],
   "source": [
    "item_properties_2_df.tail(5)"
   ]
  },
  {
   "cell_type": "code",
   "execution_count": 465,
   "metadata": {},
   "outputs": [
    {
     "data": {
      "text/html": [
       "<div>\n",
       "<style scoped>\n",
       "    .dataframe tbody tr th:only-of-type {\n",
       "        vertical-align: middle;\n",
       "    }\n",
       "\n",
       "    .dataframe tbody tr th {\n",
       "        vertical-align: top;\n",
       "    }\n",
       "\n",
       "    .dataframe thead th {\n",
       "        text-align: right;\n",
       "    }\n",
       "</style>\n",
       "<table border=\"1\" class=\"dataframe\">\n",
       "  <thead>\n",
       "    <tr style=\"text-align: right;\">\n",
       "      <th></th>\n",
       "      <th>timestamp</th>\n",
       "      <th>itemid</th>\n",
       "      <th>property</th>\n",
       "      <th>value</th>\n",
       "    </tr>\n",
       "  </thead>\n",
       "  <tbody>\n",
       "    <tr>\n",
       "      <th>0</th>\n",
       "      <td>1435460400000</td>\n",
       "      <td>460429</td>\n",
       "      <td>categoryid</td>\n",
       "      <td>1338</td>\n",
       "    </tr>\n",
       "    <tr>\n",
       "      <th>1</th>\n",
       "      <td>1441508400000</td>\n",
       "      <td>206783</td>\n",
       "      <td>888</td>\n",
       "      <td>1116713 960601 n277.200</td>\n",
       "    </tr>\n",
       "    <tr>\n",
       "      <th>2</th>\n",
       "      <td>1439089200000</td>\n",
       "      <td>395014</td>\n",
       "      <td>400</td>\n",
       "      <td>n552.000 639502 n720.000 424566</td>\n",
       "    </tr>\n",
       "    <tr>\n",
       "      <th>3</th>\n",
       "      <td>1431226800000</td>\n",
       "      <td>59481</td>\n",
       "      <td>790</td>\n",
       "      <td>n15360.000</td>\n",
       "    </tr>\n",
       "    <tr>\n",
       "      <th>4</th>\n",
       "      <td>1431831600000</td>\n",
       "      <td>156781</td>\n",
       "      <td>917</td>\n",
       "      <td>828513</td>\n",
       "    </tr>\n",
       "    <tr>\n",
       "      <th>...</th>\n",
       "      <td>...</td>\n",
       "      <td>...</td>\n",
       "      <td>...</td>\n",
       "      <td>...</td>\n",
       "    </tr>\n",
       "    <tr>\n",
       "      <th>20275897</th>\n",
       "      <td>1433646000000</td>\n",
       "      <td>236931</td>\n",
       "      <td>929</td>\n",
       "      <td>n12.000</td>\n",
       "    </tr>\n",
       "    <tr>\n",
       "      <th>20275898</th>\n",
       "      <td>1440903600000</td>\n",
       "      <td>455746</td>\n",
       "      <td>6</td>\n",
       "      <td>150169 639134</td>\n",
       "    </tr>\n",
       "    <tr>\n",
       "      <th>20275899</th>\n",
       "      <td>1439694000000</td>\n",
       "      <td>347565</td>\n",
       "      <td>686</td>\n",
       "      <td>610834</td>\n",
       "    </tr>\n",
       "    <tr>\n",
       "      <th>20275900</th>\n",
       "      <td>1433646000000</td>\n",
       "      <td>287231</td>\n",
       "      <td>867</td>\n",
       "      <td>769062</td>\n",
       "    </tr>\n",
       "    <tr>\n",
       "      <th>20275901</th>\n",
       "      <td>1442113200000</td>\n",
       "      <td>275768</td>\n",
       "      <td>888</td>\n",
       "      <td>888666 n10800.000 746840 1318567</td>\n",
       "    </tr>\n",
       "  </tbody>\n",
       "</table>\n",
       "<p>20275902 rows × 4 columns</p>\n",
       "</div>"
      ],
      "text/plain": [
       "              timestamp  itemid    property                             value\n",
       "0         1435460400000  460429  categoryid                              1338\n",
       "1         1441508400000  206783         888           1116713 960601 n277.200\n",
       "2         1439089200000  395014         400   n552.000 639502 n720.000 424566\n",
       "3         1431226800000   59481         790                        n15360.000\n",
       "4         1431831600000  156781         917                            828513\n",
       "...                 ...     ...         ...                               ...\n",
       "20275897  1433646000000  236931         929                           n12.000\n",
       "20275898  1440903600000  455746           6                     150169 639134\n",
       "20275899  1439694000000  347565         686                            610834\n",
       "20275900  1433646000000  287231         867                            769062\n",
       "20275901  1442113200000  275768         888  888666 n10800.000 746840 1318567\n",
       "\n",
       "[20275902 rows x 4 columns]"
      ]
     },
     "execution_count": 465,
     "metadata": {},
     "output_type": "execute_result"
    }
   ],
   "source": [
    "item_properties = item_properties_1_df.append(item_properties_2_df, ignore_index=True)\n",
    "item_properties"
   ]
  },
  {
   "cell_type": "code",
   "execution_count": 466,
   "metadata": {},
   "outputs": [
    {
     "data": {
      "text/html": [
       "<div>\n",
       "<style scoped>\n",
       "    .dataframe tbody tr th:only-of-type {\n",
       "        vertical-align: middle;\n",
       "    }\n",
       "\n",
       "    .dataframe tbody tr th {\n",
       "        vertical-align: top;\n",
       "    }\n",
       "\n",
       "    .dataframe thead th {\n",
       "        text-align: right;\n",
       "    }\n",
       "</style>\n",
       "<table border=\"1\" class=\"dataframe\">\n",
       "  <thead>\n",
       "    <tr style=\"text-align: right;\">\n",
       "      <th></th>\n",
       "      <th>timestamp</th>\n",
       "      <th>itemid</th>\n",
       "      <th>property</th>\n",
       "      <th>value</th>\n",
       "    </tr>\n",
       "  </thead>\n",
       "  <tbody>\n",
       "    <tr>\n",
       "      <th>18236968</th>\n",
       "      <td>1431226800000</td>\n",
       "      <td>6777</td>\n",
       "      <td>categoryid</td>\n",
       "      <td>1016</td>\n",
       "    </tr>\n",
       "    <tr>\n",
       "      <th>8597591</th>\n",
       "      <td>1431226800000</td>\n",
       "      <td>161686</td>\n",
       "      <td>categoryid</td>\n",
       "      <td>1016</td>\n",
       "    </tr>\n",
       "    <tr>\n",
       "      <th>9496408</th>\n",
       "      <td>1431226800000</td>\n",
       "      <td>276491</td>\n",
       "      <td>categoryid</td>\n",
       "      <td>1016</td>\n",
       "    </tr>\n",
       "    <tr>\n",
       "      <th>17880130</th>\n",
       "      <td>1431226800000</td>\n",
       "      <td>443058</td>\n",
       "      <td>categoryid</td>\n",
       "      <td>1016</td>\n",
       "    </tr>\n",
       "    <tr>\n",
       "      <th>18202530</th>\n",
       "      <td>1431226800000</td>\n",
       "      <td>462004</td>\n",
       "      <td>categoryid</td>\n",
       "      <td>1016</td>\n",
       "    </tr>\n",
       "  </tbody>\n",
       "</table>\n",
       "</div>"
      ],
      "text/plain": [
       "              timestamp  itemid    property value\n",
       "18236968  1431226800000    6777  categoryid  1016\n",
       "8597591   1431226800000  161686  categoryid  1016\n",
       "9496408   1431226800000  276491  categoryid  1016\n",
       "17880130  1431226800000  443058  categoryid  1016\n",
       "18202530  1431226800000  462004  categoryid  1016"
      ]
     },
     "execution_count": 466,
     "metadata": {},
     "output_type": "execute_result"
    }
   ],
   "source": [
    "item_properties.loc[(item_properties.property == 'categoryid') & (item_properties.value == '1016')].sort_values('timestamp').head()"
   ]
  },
  {
   "cell_type": "markdown",
   "metadata": {},
   "source": [
    "# Make column with values only with a categoryid or NAN for ones without"
   ]
  },
  {
   "cell_type": "code",
   "execution_count": 467,
   "metadata": {},
   "outputs": [
    {
     "data": {
      "text/html": [
       "<div>\n",
       "<style scoped>\n",
       "    .dataframe tbody tr th:only-of-type {\n",
       "        vertical-align: middle;\n",
       "    }\n",
       "\n",
       "    .dataframe tbody tr th {\n",
       "        vertical-align: top;\n",
       "    }\n",
       "\n",
       "    .dataframe thead th {\n",
       "        text-align: right;\n",
       "    }\n",
       "</style>\n",
       "<table border=\"1\" class=\"dataframe\">\n",
       "  <thead>\n",
       "    <tr style=\"text-align: right;\">\n",
       "      <th></th>\n",
       "      <th>timestamp</th>\n",
       "      <th>itemid</th>\n",
       "      <th>property</th>\n",
       "      <th>value</th>\n",
       "    </tr>\n",
       "  </thead>\n",
       "  <tbody>\n",
       "    <tr>\n",
       "      <th>0</th>\n",
       "      <td>1435460400000</td>\n",
       "      <td>460429</td>\n",
       "      <td>categoryid</td>\n",
       "      <td>1338</td>\n",
       "    </tr>\n",
       "    <tr>\n",
       "      <th>1</th>\n",
       "      <td>1441508400000</td>\n",
       "      <td>206783</td>\n",
       "      <td>888</td>\n",
       "      <td>1116713 960601 n277.200</td>\n",
       "    </tr>\n",
       "    <tr>\n",
       "      <th>2</th>\n",
       "      <td>1439089200000</td>\n",
       "      <td>395014</td>\n",
       "      <td>400</td>\n",
       "      <td>n552.000 639502 n720.000 424566</td>\n",
       "    </tr>\n",
       "    <tr>\n",
       "      <th>3</th>\n",
       "      <td>1431226800000</td>\n",
       "      <td>59481</td>\n",
       "      <td>790</td>\n",
       "      <td>n15360.000</td>\n",
       "    </tr>\n",
       "    <tr>\n",
       "      <th>4</th>\n",
       "      <td>1431831600000</td>\n",
       "      <td>156781</td>\n",
       "      <td>917</td>\n",
       "      <td>828513</td>\n",
       "    </tr>\n",
       "  </tbody>\n",
       "</table>\n",
       "</div>"
      ],
      "text/plain": [
       "       timestamp  itemid    property                            value\n",
       "0  1435460400000  460429  categoryid                             1338\n",
       "1  1441508400000  206783         888          1116713 960601 n277.200\n",
       "2  1439089200000  395014         400  n552.000 639502 n720.000 424566\n",
       "3  1431226800000   59481         790                       n15360.000\n",
       "4  1431831600000  156781         917                           828513"
      ]
     },
     "execution_count": 467,
     "metadata": {},
     "output_type": "execute_result"
    }
   ],
   "source": [
    "cat_prop = item_properties\n",
    "cat_prop.head(5)"
   ]
  },
  {
   "cell_type": "code",
   "execution_count": 468,
   "metadata": {},
   "outputs": [
    {
     "data": {
      "text/plain": [
       "20275902"
      ]
     },
     "execution_count": 468,
     "metadata": {},
     "output_type": "execute_result"
    }
   ],
   "source": [
    "len(cat_prop)"
   ]
  },
  {
   "cell_type": "markdown",
   "metadata": {},
   "source": [
    "## Add the parentid to the values"
   ]
  },
  {
   "cell_type": "code",
   "execution_count": 469,
   "metadata": {},
   "outputs": [],
   "source": [
    "df1 = pd.DataFrame(cat_prop)\n",
    "df2 = pd.DataFrame(category_tree_df)\n",
    "df2.rename(columns={'categoryid': 'value'}, inplace=True)\n",
    "df2['value'] = df2['value'].astype(str)\n",
    "df1['value'] = df1['value'].astype(str)"
   ]
  },
  {
   "cell_type": "code",
   "execution_count": 470,
   "metadata": {},
   "outputs": [
    {
     "data": {
      "text/html": [
       "<div>\n",
       "<style scoped>\n",
       "    .dataframe tbody tr th:only-of-type {\n",
       "        vertical-align: middle;\n",
       "    }\n",
       "\n",
       "    .dataframe tbody tr th {\n",
       "        vertical-align: top;\n",
       "    }\n",
       "\n",
       "    .dataframe thead th {\n",
       "        text-align: right;\n",
       "    }\n",
       "</style>\n",
       "<table border=\"1\" class=\"dataframe\">\n",
       "  <thead>\n",
       "    <tr style=\"text-align: right;\">\n",
       "      <th></th>\n",
       "      <th>timestamp</th>\n",
       "      <th>itemid</th>\n",
       "      <th>property</th>\n",
       "      <th>value</th>\n",
       "      <th>parentid</th>\n",
       "    </tr>\n",
       "  </thead>\n",
       "  <tbody>\n",
       "    <tr>\n",
       "      <th>0</th>\n",
       "      <td>1435460400000</td>\n",
       "      <td>460429</td>\n",
       "      <td>categoryid</td>\n",
       "      <td>1338</td>\n",
       "      <td>1278.0</td>\n",
       "    </tr>\n",
       "    <tr>\n",
       "      <th>1</th>\n",
       "      <td>1441508400000</td>\n",
       "      <td>206783</td>\n",
       "      <td>888</td>\n",
       "      <td>1116713 960601 n277.200</td>\n",
       "      <td>NaN</td>\n",
       "    </tr>\n",
       "    <tr>\n",
       "      <th>2</th>\n",
       "      <td>1439089200000</td>\n",
       "      <td>395014</td>\n",
       "      <td>400</td>\n",
       "      <td>n552.000 639502 n720.000 424566</td>\n",
       "      <td>NaN</td>\n",
       "    </tr>\n",
       "    <tr>\n",
       "      <th>3</th>\n",
       "      <td>1431226800000</td>\n",
       "      <td>59481</td>\n",
       "      <td>790</td>\n",
       "      <td>n15360.000</td>\n",
       "      <td>NaN</td>\n",
       "    </tr>\n",
       "    <tr>\n",
       "      <th>4</th>\n",
       "      <td>1431831600000</td>\n",
       "      <td>156781</td>\n",
       "      <td>917</td>\n",
       "      <td>828513</td>\n",
       "      <td>NaN</td>\n",
       "    </tr>\n",
       "  </tbody>\n",
       "</table>\n",
       "</div>"
      ],
      "text/plain": [
       "       timestamp  itemid    property                            value  \\\n",
       "0  1435460400000  460429  categoryid                             1338   \n",
       "1  1441508400000  206783         888          1116713 960601 n277.200   \n",
       "2  1439089200000  395014         400  n552.000 639502 n720.000 424566   \n",
       "3  1431226800000   59481         790                       n15360.000   \n",
       "4  1431831600000  156781         917                           828513   \n",
       "\n",
       "   parentid  \n",
       "0    1278.0  \n",
       "1       NaN  \n",
       "2       NaN  \n",
       "3       NaN  \n",
       "4       NaN  "
      ]
     },
     "execution_count": 470,
     "metadata": {},
     "output_type": "execute_result"
    }
   ],
   "source": [
    "# Performing a left join on value in df1 and df2\n",
    "cat_prop = pd.merge(df1, df2, on='value', how='left')\n",
    "cat_prop.head(5)"
   ]
  },
  {
   "cell_type": "code",
   "execution_count": 471,
   "metadata": {},
   "outputs": [
    {
     "data": {
      "text/plain": [
       "20275902"
      ]
     },
     "execution_count": 471,
     "metadata": {},
     "output_type": "execute_result"
    }
   ],
   "source": [
    "len(cat_prop)"
   ]
  },
  {
   "cell_type": "markdown",
   "metadata": {},
   "source": [
    "## Drop not needed columns and rows"
   ]
  },
  {
   "cell_type": "code",
   "execution_count": 472,
   "metadata": {},
   "outputs": [
    {
     "data": {
      "text/plain": [
       "417053"
      ]
     },
     "execution_count": 472,
     "metadata": {},
     "output_type": "execute_result"
    }
   ],
   "source": [
    "cat_prop_drop = [\"timestamp\", \"value\", \"property\"]\n",
    "cat_prop.drop(columns=cat_prop_drop, inplace=True)\n",
    "# Find unique 'itemid' values\n",
    "unique_itemids = cat_prop['itemid'].unique()\n",
    "\n",
    "# Filter cat_prop to keep rows with unique 'itemid' values\n",
    "cat_prop_filtered = cat_prop[cat_prop['itemid'].isin(unique_itemids)]\n",
    "\n",
    "# Keep only the rows where 'itemid' values occur exactly once\n",
    "cat_prop = cat_prop_filtered.drop_duplicates(subset='itemid')\n",
    "len(cat_prop)"
   ]
  },
  {
   "cell_type": "code",
   "execution_count": 473,
   "metadata": {},
   "outputs": [
    {
     "data": {
      "text/html": [
       "<div>\n",
       "<style scoped>\n",
       "    .dataframe tbody tr th:only-of-type {\n",
       "        vertical-align: middle;\n",
       "    }\n",
       "\n",
       "    .dataframe tbody tr th {\n",
       "        vertical-align: top;\n",
       "    }\n",
       "\n",
       "    .dataframe thead th {\n",
       "        text-align: right;\n",
       "    }\n",
       "</style>\n",
       "<table border=\"1\" class=\"dataframe\">\n",
       "  <thead>\n",
       "    <tr style=\"text-align: right;\">\n",
       "      <th></th>\n",
       "      <th>itemid</th>\n",
       "      <th>parentid</th>\n",
       "    </tr>\n",
       "  </thead>\n",
       "  <tbody>\n",
       "    <tr>\n",
       "      <th>0</th>\n",
       "      <td>460429</td>\n",
       "      <td>1278.0</td>\n",
       "    </tr>\n",
       "    <tr>\n",
       "      <th>1</th>\n",
       "      <td>206783</td>\n",
       "      <td>NaN</td>\n",
       "    </tr>\n",
       "    <tr>\n",
       "      <th>2</th>\n",
       "      <td>395014</td>\n",
       "      <td>NaN</td>\n",
       "    </tr>\n",
       "    <tr>\n",
       "      <th>3</th>\n",
       "      <td>59481</td>\n",
       "      <td>NaN</td>\n",
       "    </tr>\n",
       "    <tr>\n",
       "      <th>4</th>\n",
       "      <td>156781</td>\n",
       "      <td>NaN</td>\n",
       "    </tr>\n",
       "  </tbody>\n",
       "</table>\n",
       "</div>"
      ],
      "text/plain": [
       "   itemid  parentid\n",
       "0  460429    1278.0\n",
       "1  206783       NaN\n",
       "2  395014       NaN\n",
       "3   59481       NaN\n",
       "4  156781       NaN"
      ]
     },
     "execution_count": 473,
     "metadata": {},
     "output_type": "execute_result"
    }
   ],
   "source": [
    "cat_prop.head(5)"
   ]
  },
  {
   "cell_type": "markdown",
   "metadata": {},
   "source": [
    "## Join on the events table"
   ]
  },
  {
   "cell_type": "code",
   "execution_count": 474,
   "metadata": {},
   "outputs": [
    {
     "data": {
      "text/plain": [
       "2756101"
      ]
     },
     "execution_count": 474,
     "metadata": {},
     "output_type": "execute_result"
    }
   ],
   "source": [
    "events_df.head(5)\n",
    "len(events_df)"
   ]
  },
  {
   "cell_type": "code",
   "execution_count": 475,
   "metadata": {},
   "outputs": [
    {
     "data": {
      "text/html": [
       "<div>\n",
       "<style scoped>\n",
       "    .dataframe tbody tr th:only-of-type {\n",
       "        vertical-align: middle;\n",
       "    }\n",
       "\n",
       "    .dataframe tbody tr th {\n",
       "        vertical-align: top;\n",
       "    }\n",
       "\n",
       "    .dataframe thead th {\n",
       "        text-align: right;\n",
       "    }\n",
       "</style>\n",
       "<table border=\"1\" class=\"dataframe\">\n",
       "  <thead>\n",
       "    <tr style=\"text-align: right;\">\n",
       "      <th></th>\n",
       "      <th>timestamp</th>\n",
       "      <th>visitorid</th>\n",
       "      <th>event</th>\n",
       "      <th>itemid</th>\n",
       "      <th>transactionid</th>\n",
       "      <th>parentid</th>\n",
       "    </tr>\n",
       "  </thead>\n",
       "  <tbody>\n",
       "    <tr>\n",
       "      <th>0</th>\n",
       "      <td>1433221332117</td>\n",
       "      <td>257597</td>\n",
       "      <td>view</td>\n",
       "      <td>355908</td>\n",
       "      <td>NaN</td>\n",
       "      <td>NaN</td>\n",
       "    </tr>\n",
       "    <tr>\n",
       "      <th>1</th>\n",
       "      <td>1433224214164</td>\n",
       "      <td>992329</td>\n",
       "      <td>view</td>\n",
       "      <td>248676</td>\n",
       "      <td>NaN</td>\n",
       "      <td>NaN</td>\n",
       "    </tr>\n",
       "    <tr>\n",
       "      <th>2</th>\n",
       "      <td>1433221999827</td>\n",
       "      <td>111016</td>\n",
       "      <td>view</td>\n",
       "      <td>318965</td>\n",
       "      <td>NaN</td>\n",
       "      <td>NaN</td>\n",
       "    </tr>\n",
       "    <tr>\n",
       "      <th>3</th>\n",
       "      <td>1433221955914</td>\n",
       "      <td>483717</td>\n",
       "      <td>view</td>\n",
       "      <td>253185</td>\n",
       "      <td>NaN</td>\n",
       "      <td>NaN</td>\n",
       "    </tr>\n",
       "    <tr>\n",
       "      <th>4</th>\n",
       "      <td>1433221337106</td>\n",
       "      <td>951259</td>\n",
       "      <td>view</td>\n",
       "      <td>367447</td>\n",
       "      <td>NaN</td>\n",
       "      <td>NaN</td>\n",
       "    </tr>\n",
       "  </tbody>\n",
       "</table>\n",
       "</div>"
      ],
      "text/plain": [
       "       timestamp  visitorid event  itemid  transactionid  parentid\n",
       "0  1433221332117     257597  view  355908            NaN       NaN\n",
       "1  1433224214164     992329  view  248676            NaN       NaN\n",
       "2  1433221999827     111016  view  318965            NaN       NaN\n",
       "3  1433221955914     483717  view  253185            NaN       NaN\n",
       "4  1433221337106     951259  view  367447            NaN       NaN"
      ]
     },
     "execution_count": 475,
     "metadata": {},
     "output_type": "execute_result"
    }
   ],
   "source": [
    "events_df = pd.merge(events_df, cat_prop, on=('itemid'), how='left')\n",
    "events_df.head(5)"
   ]
  },
  {
   "cell_type": "code",
   "execution_count": 476,
   "metadata": {},
   "outputs": [
    {
     "data": {
      "text/plain": [
       "2756101"
      ]
     },
     "execution_count": 476,
     "metadata": {},
     "output_type": "execute_result"
    }
   ],
   "source": [
    "len(events_df)"
   ]
  },
  {
   "cell_type": "code",
   "execution_count": 477,
   "metadata": {},
   "outputs": [
    {
     "data": {
      "text/html": [
       "<div>\n",
       "<style scoped>\n",
       "    .dataframe tbody tr th:only-of-type {\n",
       "        vertical-align: middle;\n",
       "    }\n",
       "\n",
       "    .dataframe tbody tr th {\n",
       "        vertical-align: top;\n",
       "    }\n",
       "\n",
       "    .dataframe thead th {\n",
       "        text-align: right;\n",
       "    }\n",
       "</style>\n",
       "<table border=\"1\" class=\"dataframe\">\n",
       "  <thead>\n",
       "    <tr style=\"text-align: right;\">\n",
       "      <th></th>\n",
       "      <th>visitorid</th>\n",
       "      <th>num_items_viewed</th>\n",
       "      <th>view_count</th>\n",
       "      <th>purchased</th>\n",
       "    </tr>\n",
       "  </thead>\n",
       "  <tbody>\n",
       "    <tr>\n",
       "      <th>0</th>\n",
       "      <td>172</td>\n",
       "      <td>22</td>\n",
       "      <td>33</td>\n",
       "      <td>1</td>\n",
       "    </tr>\n",
       "    <tr>\n",
       "      <th>1</th>\n",
       "      <td>186</td>\n",
       "      <td>1</td>\n",
       "      <td>2</td>\n",
       "      <td>1</td>\n",
       "    </tr>\n",
       "    <tr>\n",
       "      <th>2</th>\n",
       "      <td>264</td>\n",
       "      <td>2</td>\n",
       "      <td>3</td>\n",
       "      <td>1</td>\n",
       "    </tr>\n",
       "    <tr>\n",
       "      <th>3</th>\n",
       "      <td>419</td>\n",
       "      <td>3</td>\n",
       "      <td>4</td>\n",
       "      <td>1</td>\n",
       "    </tr>\n",
       "    <tr>\n",
       "      <th>4</th>\n",
       "      <td>539</td>\n",
       "      <td>1</td>\n",
       "      <td>4</td>\n",
       "      <td>1</td>\n",
       "    </tr>\n",
       "  </tbody>\n",
       "</table>\n",
       "</div>"
      ],
      "text/plain": [
       "   visitorid  num_items_viewed  view_count  purchased\n",
       "0        172                22          33          1\n",
       "1        186                 1           2          1\n",
       "2        264                 2           3          1\n",
       "3        419                 3           4          1\n",
       "4        539                 1           4          1"
      ]
     },
     "execution_count": 477,
     "metadata": {},
     "output_type": "execute_result"
    }
   ],
   "source": [
    "main_df.head(5)"
   ]
  },
  {
   "cell_type": "markdown",
   "metadata": {},
   "source": [
    "# Lets now combine this main_df with the one we created above"
   ]
  },
  {
   "cell_type": "code",
   "execution_count": 478,
   "metadata": {},
   "outputs": [
    {
     "data": {
      "text/html": [
       "<div>\n",
       "<style scoped>\n",
       "    .dataframe tbody tr th:only-of-type {\n",
       "        vertical-align: middle;\n",
       "    }\n",
       "\n",
       "    .dataframe tbody tr th {\n",
       "        vertical-align: top;\n",
       "    }\n",
       "\n",
       "    .dataframe thead th {\n",
       "        text-align: right;\n",
       "    }\n",
       "</style>\n",
       "<table border=\"1\" class=\"dataframe\">\n",
       "  <thead>\n",
       "    <tr style=\"text-align: right;\">\n",
       "      <th></th>\n",
       "      <th>visitorid</th>\n",
       "      <th>num_items_viewed</th>\n",
       "      <th>view_count</th>\n",
       "      <th>purchased</th>\n",
       "      <th>timestamp</th>\n",
       "      <th>event</th>\n",
       "      <th>itemid</th>\n",
       "      <th>transactionid</th>\n",
       "      <th>parentid</th>\n",
       "    </tr>\n",
       "  </thead>\n",
       "  <tbody>\n",
       "    <tr>\n",
       "      <th>0</th>\n",
       "      <td>172</td>\n",
       "      <td>22</td>\n",
       "      <td>33</td>\n",
       "      <td>1</td>\n",
       "      <td>1439602029037</td>\n",
       "      <td>view</td>\n",
       "      <td>465522</td>\n",
       "      <td>NaN</td>\n",
       "      <td>NaN</td>\n",
       "    </tr>\n",
       "    <tr>\n",
       "      <th>1</th>\n",
       "      <td>172</td>\n",
       "      <td>22</td>\n",
       "      <td>33</td>\n",
       "      <td>1</td>\n",
       "      <td>1439600798438</td>\n",
       "      <td>view</td>\n",
       "      <td>465522</td>\n",
       "      <td>NaN</td>\n",
       "      <td>NaN</td>\n",
       "    </tr>\n",
       "    <tr>\n",
       "      <th>2</th>\n",
       "      <td>172</td>\n",
       "      <td>22</td>\n",
       "      <td>33</td>\n",
       "      <td>1</td>\n",
       "      <td>1439599816912</td>\n",
       "      <td>addtocart</td>\n",
       "      <td>10034</td>\n",
       "      <td>NaN</td>\n",
       "      <td>NaN</td>\n",
       "    </tr>\n",
       "    <tr>\n",
       "      <th>3</th>\n",
       "      <td>172</td>\n",
       "      <td>22</td>\n",
       "      <td>33</td>\n",
       "      <td>1</td>\n",
       "      <td>1439599752998</td>\n",
       "      <td>view</td>\n",
       "      <td>10034</td>\n",
       "      <td>NaN</td>\n",
       "      <td>NaN</td>\n",
       "    </tr>\n",
       "    <tr>\n",
       "      <th>4</th>\n",
       "      <td>172</td>\n",
       "      <td>22</td>\n",
       "      <td>33</td>\n",
       "      <td>1</td>\n",
       "      <td>1439602141230</td>\n",
       "      <td>transaction</td>\n",
       "      <td>465522</td>\n",
       "      <td>9725.0</td>\n",
       "      <td>NaN</td>\n",
       "    </tr>\n",
       "  </tbody>\n",
       "</table>\n",
       "</div>"
      ],
      "text/plain": [
       "   visitorid  num_items_viewed  view_count  purchased      timestamp  \\\n",
       "0        172                22          33          1  1439602029037   \n",
       "1        172                22          33          1  1439600798438   \n",
       "2        172                22          33          1  1439599816912   \n",
       "3        172                22          33          1  1439599752998   \n",
       "4        172                22          33          1  1439602141230   \n",
       "\n",
       "         event  itemid  transactionid  parentid  \n",
       "0         view  465522            NaN       NaN  \n",
       "1         view  465522            NaN       NaN  \n",
       "2    addtocart   10034            NaN       NaN  \n",
       "3         view   10034            NaN       NaN  \n",
       "4  transaction  465522         9725.0       NaN  "
      ]
     },
     "execution_count": 478,
     "metadata": {},
     "output_type": "execute_result"
    }
   ],
   "source": [
    "final_df = pd.merge(main_df, events_df, on=('visitorid'), how='left')\n",
    "final_df.head(5)"
   ]
  },
  {
   "cell_type": "code",
   "execution_count": 479,
   "metadata": {},
   "outputs": [
    {
     "data": {
      "text/html": [
       "<div>\n",
       "<style scoped>\n",
       "    .dataframe tbody tr th:only-of-type {\n",
       "        vertical-align: middle;\n",
       "    }\n",
       "\n",
       "    .dataframe tbody tr th {\n",
       "        vertical-align: top;\n",
       "    }\n",
       "\n",
       "    .dataframe thead th {\n",
       "        text-align: right;\n",
       "    }\n",
       "</style>\n",
       "<table border=\"1\" class=\"dataframe\">\n",
       "  <thead>\n",
       "    <tr style=\"text-align: right;\">\n",
       "      <th></th>\n",
       "      <th>visitorid</th>\n",
       "      <th>num_items_viewed</th>\n",
       "      <th>view_count</th>\n",
       "      <th>purchased</th>\n",
       "      <th>parentid</th>\n",
       "    </tr>\n",
       "  </thead>\n",
       "  <tbody>\n",
       "    <tr>\n",
       "      <th>0</th>\n",
       "      <td>172</td>\n",
       "      <td>22</td>\n",
       "      <td>33</td>\n",
       "      <td>1</td>\n",
       "      <td>NaN</td>\n",
       "    </tr>\n",
       "    <tr>\n",
       "      <th>1</th>\n",
       "      <td>172</td>\n",
       "      <td>22</td>\n",
       "      <td>33</td>\n",
       "      <td>1</td>\n",
       "      <td>NaN</td>\n",
       "    </tr>\n",
       "    <tr>\n",
       "      <th>2</th>\n",
       "      <td>172</td>\n",
       "      <td>22</td>\n",
       "      <td>33</td>\n",
       "      <td>1</td>\n",
       "      <td>NaN</td>\n",
       "    </tr>\n",
       "    <tr>\n",
       "      <th>3</th>\n",
       "      <td>172</td>\n",
       "      <td>22</td>\n",
       "      <td>33</td>\n",
       "      <td>1</td>\n",
       "      <td>NaN</td>\n",
       "    </tr>\n",
       "    <tr>\n",
       "      <th>4</th>\n",
       "      <td>172</td>\n",
       "      <td>22</td>\n",
       "      <td>33</td>\n",
       "      <td>1</td>\n",
       "      <td>NaN</td>\n",
       "    </tr>\n",
       "  </tbody>\n",
       "</table>\n",
       "</div>"
      ],
      "text/plain": [
       "   visitorid  num_items_viewed  view_count  purchased  parentid\n",
       "0        172                22          33          1       NaN\n",
       "1        172                22          33          1       NaN\n",
       "2        172                22          33          1       NaN\n",
       "3        172                22          33          1       NaN\n",
       "4        172                22          33          1       NaN"
      ]
     },
     "execution_count": 479,
     "metadata": {},
     "output_type": "execute_result"
    }
   ],
   "source": [
    "final_df = final_df.drop(['transactionid',\"event\",\"itemid\",\"timestamp\"], axis = 'columns')\n",
    "final_df.head(5)"
   ]
  },
  {
   "cell_type": "code",
   "execution_count": 480,
   "metadata": {},
   "outputs": [
    {
     "data": {
      "text/html": [
       "<div>\n",
       "<style scoped>\n",
       "    .dataframe tbody tr th:only-of-type {\n",
       "        vertical-align: middle;\n",
       "    }\n",
       "\n",
       "    .dataframe tbody tr th {\n",
       "        vertical-align: top;\n",
       "    }\n",
       "\n",
       "    .dataframe thead th {\n",
       "        text-align: right;\n",
       "    }\n",
       "</style>\n",
       "<table border=\"1\" class=\"dataframe\">\n",
       "  <thead>\n",
       "    <tr style=\"text-align: right;\">\n",
       "      <th></th>\n",
       "      <th>visitorid</th>\n",
       "      <th>num_items_viewed</th>\n",
       "      <th>view_count</th>\n",
       "      <th>purchased</th>\n",
       "      <th>parentid</th>\n",
       "    </tr>\n",
       "  </thead>\n",
       "  <tbody>\n",
       "    <tr>\n",
       "      <th>0</th>\n",
       "      <td>172</td>\n",
       "      <td>22</td>\n",
       "      <td>33</td>\n",
       "      <td>1</td>\n",
       "      <td>0.0</td>\n",
       "    </tr>\n",
       "    <tr>\n",
       "      <th>1</th>\n",
       "      <td>172</td>\n",
       "      <td>22</td>\n",
       "      <td>33</td>\n",
       "      <td>1</td>\n",
       "      <td>0.0</td>\n",
       "    </tr>\n",
       "    <tr>\n",
       "      <th>2</th>\n",
       "      <td>172</td>\n",
       "      <td>22</td>\n",
       "      <td>33</td>\n",
       "      <td>1</td>\n",
       "      <td>0.0</td>\n",
       "    </tr>\n",
       "    <tr>\n",
       "      <th>3</th>\n",
       "      <td>172</td>\n",
       "      <td>22</td>\n",
       "      <td>33</td>\n",
       "      <td>1</td>\n",
       "      <td>0.0</td>\n",
       "    </tr>\n",
       "    <tr>\n",
       "      <th>4</th>\n",
       "      <td>172</td>\n",
       "      <td>22</td>\n",
       "      <td>33</td>\n",
       "      <td>1</td>\n",
       "      <td>0.0</td>\n",
       "    </tr>\n",
       "  </tbody>\n",
       "</table>\n",
       "</div>"
      ],
      "text/plain": [
       "   visitorid  num_items_viewed  view_count  purchased  parentid\n",
       "0        172                22          33          1       0.0\n",
       "1        172                22          33          1       0.0\n",
       "2        172                22          33          1       0.0\n",
       "3        172                22          33          1       0.0\n",
       "4        172                22          33          1       0.0"
      ]
     },
     "execution_count": 480,
     "metadata": {},
     "output_type": "execute_result"
    }
   ],
   "source": [
    "final_df[['purchased',\"num_items_viewed\", \"parentid\",\"view_count\"]] = final_df[['purchased',\"num_items_viewed\", \"parentid\",\"view_count\"]].fillna(0)\n",
    "final_df.head(5)"
   ]
  },
  {
   "cell_type": "markdown",
   "metadata": {},
   "source": [
    "## We now have every visitor and we get the count of the parentid to see if the more parentids means that it is more purchasable."
   ]
  },
  {
   "cell_type": "code",
   "execution_count": 481,
   "metadata": {},
   "outputs": [
    {
     "data": {
      "text/html": [
       "<div>\n",
       "<style scoped>\n",
       "    .dataframe tbody tr th:only-of-type {\n",
       "        vertical-align: middle;\n",
       "    }\n",
       "\n",
       "    .dataframe tbody tr th {\n",
       "        vertical-align: top;\n",
       "    }\n",
       "\n",
       "    .dataframe thead th {\n",
       "        text-align: right;\n",
       "    }\n",
       "</style>\n",
       "<table border=\"1\" class=\"dataframe\">\n",
       "  <thead>\n",
       "    <tr style=\"text-align: right;\">\n",
       "      <th></th>\n",
       "      <th>visitorid</th>\n",
       "      <th>num_items_viewed</th>\n",
       "      <th>purchased</th>\n",
       "      <th>view_count</th>\n",
       "      <th>parentid</th>\n",
       "    </tr>\n",
       "  </thead>\n",
       "  <tbody>\n",
       "    <tr>\n",
       "      <th>0</th>\n",
       "      <td>33</td>\n",
       "      <td>1</td>\n",
       "      <td>0</td>\n",
       "      <td>1</td>\n",
       "      <td>1</td>\n",
       "    </tr>\n",
       "    <tr>\n",
       "      <th>1</th>\n",
       "      <td>51</td>\n",
       "      <td>5</td>\n",
       "      <td>0</td>\n",
       "      <td>6</td>\n",
       "      <td>2</td>\n",
       "    </tr>\n",
       "    <tr>\n",
       "      <th>2</th>\n",
       "      <td>78</td>\n",
       "      <td>1</td>\n",
       "      <td>0</td>\n",
       "      <td>1</td>\n",
       "      <td>1</td>\n",
       "    </tr>\n",
       "    <tr>\n",
       "      <th>3</th>\n",
       "      <td>116</td>\n",
       "      <td>1</td>\n",
       "      <td>0</td>\n",
       "      <td>1</td>\n",
       "      <td>1</td>\n",
       "    </tr>\n",
       "    <tr>\n",
       "      <th>4</th>\n",
       "      <td>160</td>\n",
       "      <td>1</td>\n",
       "      <td>0</td>\n",
       "      <td>1</td>\n",
       "      <td>1</td>\n",
       "    </tr>\n",
       "  </tbody>\n",
       "</table>\n",
       "</div>"
      ],
      "text/plain": [
       "   visitorid  num_items_viewed  purchased  view_count  parentid\n",
       "0         33                 1          0           1         1\n",
       "1         51                 5          0           6         2\n",
       "2         78                 1          0           1         1\n",
       "3        116                 1          0           1         1\n",
       "4        160                 1          0           1         1"
      ]
     },
     "execution_count": 481,
     "metadata": {},
     "output_type": "execute_result"
    }
   ],
   "source": [
    "result = final_df.groupby(['visitorid',\"num_items_viewed\", \"purchased\",\"view_count\"])['parentid'].nunique().reset_index()\n",
    "result = result.rename(columns={'column3': 'parentid_count'})\n",
    "result.head(5)"
   ]
  },
  {
   "cell_type": "markdown",
   "metadata": {},
   "source": [
    "# We can now run the same model above to see if the parentid count helps"
   ]
  },
  {
   "cell_type": "code",
   "execution_count": 482,
   "metadata": {},
   "outputs": [],
   "source": [
    "X = result.drop(['purchased', 'visitorid'], axis = 'columns')\n",
    "y = result[\"purchased\"]\n",
    "X_train, X_test, y_train, y_test = train_test_split(X, y, random_state = 42, train_size = 0.7)"
   ]
  },
  {
   "cell_type": "code",
   "execution_count": 485,
   "metadata": {},
   "outputs": [
    {
     "name": "stdout",
     "output_type": "stream",
     "text": [
      "0:\tlearn: 0.6637423\ttest: 0.6636676\tbest: 0.6636676 (0)\ttotal: 6.15ms\tremaining: 2.15s\n",
      "10:\tlearn: 0.5037220\ttest: 0.5035302\tbest: 0.5035302 (10)\ttotal: 61ms\tremaining: 1.88s\n",
      "20:\tlearn: 0.4547249\ttest: 0.4549047\tbest: 0.4549047 (20)\ttotal: 115ms\tremaining: 1.8s\n",
      "30:\tlearn: 0.4352534\ttest: 0.4356513\tbest: 0.4356513 (30)\ttotal: 170ms\tremaining: 1.75s\n",
      "40:\tlearn: 0.4272300\ttest: 0.4278724\tbest: 0.4278724 (40)\ttotal: 225ms\tremaining: 1.7s\n",
      "50:\tlearn: 0.4236027\ttest: 0.4244090\tbest: 0.4244090 (50)\ttotal: 277ms\tremaining: 1.62s\n",
      "60:\tlearn: 0.4213612\ttest: 0.4224349\tbest: 0.4224349 (60)\ttotal: 331ms\tremaining: 1.57s\n",
      "70:\tlearn: 0.4201203\ttest: 0.4213328\tbest: 0.4213328 (70)\ttotal: 384ms\tremaining: 1.51s\n",
      "80:\tlearn: 0.4194010\ttest: 0.4208454\tbest: 0.4208454 (80)\ttotal: 435ms\tremaining: 1.44s\n",
      "90:\tlearn: 0.4187512\ttest: 0.4204218\tbest: 0.4204218 (90)\ttotal: 489ms\tremaining: 1.39s\n",
      "100:\tlearn: 0.4183197\ttest: 0.4201603\tbest: 0.4201603 (100)\ttotal: 543ms\tremaining: 1.34s\n",
      "110:\tlearn: 0.4179136\ttest: 0.4199023\tbest: 0.4199023 (110)\ttotal: 593ms\tremaining: 1.28s\n",
      "120:\tlearn: 0.4175256\ttest: 0.4197259\tbest: 0.4197259 (120)\ttotal: 649ms\tremaining: 1.23s\n",
      "130:\tlearn: 0.4172959\ttest: 0.4196251\tbest: 0.4196236 (129)\ttotal: 702ms\tremaining: 1.17s\n",
      "140:\tlearn: 0.4170496\ttest: 0.4195877\tbest: 0.4195870 (139)\ttotal: 754ms\tremaining: 1.12s\n",
      "150:\tlearn: 0.4168740\ttest: 0.4195410\tbest: 0.4195390 (149)\ttotal: 807ms\tremaining: 1.06s\n",
      "160:\tlearn: 0.4166646\ttest: 0.4194897\tbest: 0.4194897 (160)\ttotal: 858ms\tremaining: 1.01s\n",
      "170:\tlearn: 0.4164310\ttest: 0.4194691\tbest: 0.4194691 (170)\ttotal: 913ms\tremaining: 955ms\n",
      "180:\tlearn: 0.4162718\ttest: 0.4194583\tbest: 0.4194562 (173)\ttotal: 967ms\tremaining: 902ms\n",
      "190:\tlearn: 0.4160378\ttest: 0.4194619\tbest: 0.4194465 (186)\ttotal: 1.02s\tremaining: 848ms\n",
      "200:\tlearn: 0.4158097\ttest: 0.4194338\tbest: 0.4194284 (198)\ttotal: 1.07s\tremaining: 795ms\n",
      "210:\tlearn: 0.4155791\ttest: 0.4194945\tbest: 0.4194284 (198)\ttotal: 1.12s\tremaining: 741ms\n",
      "220:\tlearn: 0.4153548\ttest: 0.4194699\tbest: 0.4194284 (198)\ttotal: 1.17s\tremaining: 686ms\n",
      "Stopped by overfitting detector  (25 iterations wait)\n",
      "\n",
      "bestTest = 0.4194283638\n",
      "bestIteration = 198\n",
      "\n",
      "Shrink model to first 199 iterations.\n",
      "Accuracy: 0.8262518968133535\n"
     ]
    }
   ],
   "source": [
    "model = CatBoostClassifier(iterations=350, learning_rate=0.05, depth=8, loss_function='Logloss')\n",
    "model.fit(X_train, y_train, eval_set=(X_test, y_test), early_stopping_rounds=25, verbose=10)\n",
    "\n",
    "y_pred = model.predict(X_test)\n",
    "\n",
    "accuracy = accuracy_score(y_test, y_pred)\n",
    "print(f\"Accuracy: {accuracy}\")"
   ]
  },
  {
   "cell_type": "markdown",
   "metadata": {},
   "source": [
    "## We can see that there is some small improvement when we add the parentid around a 1% increase. "
   ]
  },
  {
   "cell_type": "markdown",
   "metadata": {},
   "source": [
    "# Now we can try using Bagging a technique used in one of my papers"
   ]
  },
  {
   "cell_type": "code",
   "execution_count": 486,
   "metadata": {},
   "outputs": [
    {
     "name": "stdout",
     "output_type": "stream",
     "text": [
      "0:\tlearn: 0.6637423\ttest: 0.6636676\tbest: 0.6636676 (0)\ttotal: 5.84ms\tremaining: 2.04s\n",
      "10:\tlearn: 0.5041497\ttest: 0.5039257\tbest: 0.5039257 (10)\ttotal: 61.4ms\tremaining: 1.89s\n",
      "20:\tlearn: 0.4550712\ttest: 0.4552998\tbest: 0.4552998 (20)\ttotal: 114ms\tremaining: 1.78s\n",
      "30:\tlearn: 0.4363610\ttest: 0.4368097\tbest: 0.4368097 (30)\ttotal: 165ms\tremaining: 1.7s\n",
      "40:\tlearn: 0.4269596\ttest: 0.4277417\tbest: 0.4277417 (40)\ttotal: 220ms\tremaining: 1.66s\n",
      "50:\tlearn: 0.4234381\ttest: 0.4245520\tbest: 0.4245520 (50)\ttotal: 271ms\tremaining: 1.59s\n",
      "60:\tlearn: 0.4212661\ttest: 0.4225412\tbest: 0.4225412 (60)\ttotal: 323ms\tremaining: 1.53s\n",
      "70:\tlearn: 0.4202118\ttest: 0.4217160\tbest: 0.4217160 (70)\ttotal: 374ms\tremaining: 1.47s\n",
      "80:\tlearn: 0.4194406\ttest: 0.4211480\tbest: 0.4211480 (80)\ttotal: 426ms\tremaining: 1.42s\n",
      "90:\tlearn: 0.4187156\ttest: 0.4206949\tbest: 0.4206949 (90)\ttotal: 477ms\tremaining: 1.36s\n",
      "100:\tlearn: 0.4181648\ttest: 0.4203593\tbest: 0.4203593 (100)\ttotal: 529ms\tremaining: 1.3s\n",
      "110:\tlearn: 0.4177630\ttest: 0.4201867\tbest: 0.4201867 (110)\ttotal: 582ms\tremaining: 1.25s\n",
      "120:\tlearn: 0.4174129\ttest: 0.4200021\tbest: 0.4200021 (120)\ttotal: 635ms\tremaining: 1.2s\n",
      "130:\tlearn: 0.4171386\ttest: 0.4198879\tbest: 0.4198879 (130)\ttotal: 687ms\tremaining: 1.15s\n",
      "140:\tlearn: 0.4168835\ttest: 0.4197939\tbest: 0.4197939 (140)\ttotal: 740ms\tremaining: 1.1s\n",
      "150:\tlearn: 0.4166429\ttest: 0.4197888\tbest: 0.4197735 (142)\ttotal: 792ms\tremaining: 1.04s\n",
      "160:\tlearn: 0.4164218\ttest: 0.4197464\tbest: 0.4197464 (160)\ttotal: 843ms\tremaining: 990ms\n",
      "170:\tlearn: 0.4161175\ttest: 0.4197056\tbest: 0.4197056 (170)\ttotal: 895ms\tremaining: 936ms\n",
      "180:\tlearn: 0.4158846\ttest: 0.4196615\tbest: 0.4196319 (177)\ttotal: 947ms\tremaining: 885ms\n",
      "190:\tlearn: 0.4156139\ttest: 0.4195939\tbest: 0.4195898 (187)\ttotal: 1s\tremaining: 833ms\n",
      "200:\tlearn: 0.4153566\ttest: 0.4196240\tbest: 0.4195859 (191)\ttotal: 1.05s\tremaining: 781ms\n",
      "210:\tlearn: 0.4150722\ttest: 0.4195953\tbest: 0.4195859 (191)\ttotal: 1.11s\tremaining: 729ms\n",
      "Stopped by overfitting detector  (25 iterations wait)\n",
      "\n",
      "bestTest = 0.4195859321\n",
      "bestIteration = 191\n",
      "\n",
      "Shrink model to first 192 iterations.\n",
      "Accuracy: 0.8258303827347834\n"
     ]
    }
   ],
   "source": [
    "model_bagging = CatBoostClassifier(bootstrap_type='Bayesian',iterations=350, learning_rate=0.05, depth=8, loss_function='Logloss')\n",
    "model_bagging.fit(X_train, y_train, eval_set=(X_test, y_test), early_stopping_rounds=25, verbose=10)\n",
    "\n",
    "y_pred = model_bagging.predict(X_test)\n",
    "\n",
    "accuracy = accuracy_score(y_test, y_pred)\n",
    "print(f\"Accuracy: {accuracy}\")"
   ]
  },
  {
   "cell_type": "markdown",
   "metadata": {},
   "source": [
    "## We see here that bagging does not bring any benefit to the model. CatBoost naturally uses boossting so we can't try that"
   ]
  },
  {
   "cell_type": "markdown",
   "metadata": {},
   "source": [
    "## We will now try our final model which will be Perceptron"
   ]
  },
  {
   "cell_type": "code",
   "execution_count": 490,
   "metadata": {},
   "outputs": [
    {
     "name": "stdout",
     "output_type": "stream",
     "text": [
      "Accuracy: 0.7838\n",
      "Accuracy: 0.7738\n",
      "Accuracy: 0.8063\n",
      "Accuracy: 0.7995\n",
      "Accuracy: 0.7342\n"
     ]
    }
   ],
   "source": [
    "# We try perceprton since it has some success with binary classification\n",
    "from sklearn.linear_model import Perceptron\n",
    "eta_list = [0.0001, 0.001, 0.01, 0.1, 1.0]\n",
    "for i in eta_list:\n",
    "    model = Perceptron(eta0=i, max_iter=1000)\n",
    "    model.fit(X_train, y_train)\n",
    "\n",
    "    predictions = model.predict(X_test)\n",
    "\n",
    "    accuracy = accuracy_score(y_test, predictions)\n",
    "    print(f\"Accuracy: {accuracy:.4f}\")"
   ]
  },
  {
   "cell_type": "markdown",
   "metadata": {},
   "source": [
    "## Sadly even the perceptron could not improve the accuracy"
   ]
  },
  {
   "cell_type": "code",
   "execution_count": null,
   "metadata": {},
   "outputs": [],
   "source": []
  }
 ],
 "metadata": {
  "kernelspec": {
   "display_name": "Python 3",
   "language": "python",
   "name": "python3"
  },
  "language_info": {
   "codemirror_mode": {
    "name": "ipython",
    "version": 3
   },
   "file_extension": ".py",
   "mimetype": "text/x-python",
   "name": "python",
   "nbconvert_exporter": "python",
   "pygments_lexer": "ipython3",
   "version": "3.8.8"
  }
 },
 "nbformat": 4,
 "nbformat_minor": 4
}
